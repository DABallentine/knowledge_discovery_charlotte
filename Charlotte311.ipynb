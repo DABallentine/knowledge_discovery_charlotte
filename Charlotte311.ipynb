{
  "nbformat": 4,
  "nbformat_minor": 5,
  "metadata": {
    "kernelspec": {
      "display_name": "Python 3 (ipykernel)",
      "language": "python",
      "name": "python3"
    },
    "language_info": {
      "codemirror_mode": {
        "name": "ipython",
        "version": 3
      },
      "file_extension": ".py",
      "mimetype": "text/x-python",
      "name": "python",
      "nbconvert_exporter": "python",
      "pygments_lexer": "ipython3",
      "version": "3.8.8"
    },
    "colab": {
      "name": "Charlotte311.ipynb",
      "provenance": [],
      "include_colab_link": true
    }
  },
  "cells": [
    {
      "cell_type": "markdown",
      "metadata": {
        "id": "view-in-github",
        "colab_type": "text"
      },
      "source": [
        "<a href=\"https://colab.research.google.com/github/DABallentine/knowledge_discovery_charlotte/blob/Imad/Charlotte311.ipynb\" target=\"_parent\"><img src=\"https://colab.research.google.com/assets/colab-badge.svg\" alt=\"Open In Colab\"/></a>"
      ]
    },
    {
      "cell_type": "markdown",
      "metadata": {
        "id": "6ff3dd44"
      },
      "source": [
        "<img src='https://www.commonapp.org/static/90a1fb37e395b1adc32f28236052d416/university-north-carolina-charlotte_959.jpg'>\n",
        "\n",
        "\n",
        "\n",
        "## PROJECT: Charlotte 311 Service Requests\n",
        "## DSBA 6162\n"
      ],
      "id": "6ff3dd44"
    },
    {
      "cell_type": "code",
      "metadata": {
        "colab": {
          "base_uri": "https://localhost:8080/"
        },
        "id": "733cf233",
        "outputId": "28a89fdd-b3c3-42a0-a3e0-e830b279962a"
      },
      "source": [
        "# Import Numpy\n",
        "import numpy as np\n",
        "\n",
        "# Import Pandas\n",
        "import pandas as pd\n",
        "\n",
        "# Import Random\n",
        "import random\n",
        "\n",
        "# to read and visualize spatial data\n",
        "# ! pip install geopandas\n",
        "import geopandas as gpd\n",
        "\n",
        "# ! pip install contextily\n",
        "import contextily as ctx\n",
        "\n",
        "# to give more power to your figures (plots)\n",
        "import matplotlib.pyplot as plt\n",
        "\n",
        "# Import Seaborn for plotting\n",
        "import seaborn as sns\n",
        "\n",
        "plt.style.use('ggplot')\n"
      ],
      "id": "733cf233",
      "execution_count": 3,
      "outputs": [
        {
          "output_type": "stream",
          "name": "stdout",
          "text": [
            "Requirement already satisfied: geopandas in /usr/local/lib/python3.7/dist-packages (0.10.1+7.g0746be9)\n",
            "Requirement already satisfied: fiona>=1.8 in /usr/local/lib/python3.7/dist-packages (from geopandas) (1.8.20)\n",
            "Requirement already satisfied: pandas>=0.25.0 in /usr/local/lib/python3.7/dist-packages (from geopandas) (1.1.5)\n",
            "Requirement already satisfied: pyproj>=2.2.0 in /usr/local/lib/python3.7/dist-packages (from geopandas) (3.2.1)\n",
            "Requirement already satisfied: shapely>=1.6 in /usr/local/lib/python3.7/dist-packages (from geopandas) (1.7.1)\n",
            "Requirement already satisfied: cligj>=0.5 in /usr/local/lib/python3.7/dist-packages (from fiona>=1.8->geopandas) (0.7.2)\n",
            "Requirement already satisfied: certifi in /usr/local/lib/python3.7/dist-packages (from fiona>=1.8->geopandas) (2021.5.30)\n",
            "Requirement already satisfied: setuptools in /usr/local/lib/python3.7/dist-packages (from fiona>=1.8->geopandas) (57.4.0)\n",
            "Requirement already satisfied: six>=1.7 in /usr/local/lib/python3.7/dist-packages (from fiona>=1.8->geopandas) (1.15.0)\n",
            "Requirement already satisfied: munch in /usr/local/lib/python3.7/dist-packages (from fiona>=1.8->geopandas) (2.5.0)\n",
            "Requirement already satisfied: click>=4.0 in /usr/local/lib/python3.7/dist-packages (from fiona>=1.8->geopandas) (7.1.2)\n",
            "Requirement already satisfied: click-plugins>=1.0 in /usr/local/lib/python3.7/dist-packages (from fiona>=1.8->geopandas) (1.1.1)\n",
            "Requirement already satisfied: attrs>=17 in /usr/local/lib/python3.7/dist-packages (from fiona>=1.8->geopandas) (21.2.0)\n",
            "Requirement already satisfied: numpy>=1.15.4 in /usr/local/lib/python3.7/dist-packages (from pandas>=0.25.0->geopandas) (1.19.5)\n",
            "Requirement already satisfied: pytz>=2017.2 in /usr/local/lib/python3.7/dist-packages (from pandas>=0.25.0->geopandas) (2018.9)\n",
            "Requirement already satisfied: python-dateutil>=2.7.3 in /usr/local/lib/python3.7/dist-packages (from pandas>=0.25.0->geopandas) (2.8.2)\n",
            "Collecting contextily\n",
            "  Downloading contextily-1.1.0-py3-none-any.whl (24 kB)\n",
            "Requirement already satisfied: requests in /usr/local/lib/python3.7/dist-packages (from contextily) (2.23.0)\n",
            "Requirement already satisfied: geopy in /usr/local/lib/python3.7/dist-packages (from contextily) (1.17.0)\n",
            "Collecting rasterio\n",
            "  Downloading rasterio-1.2.10-cp37-cp37m-manylinux1_x86_64.whl (19.3 MB)\n",
            "\u001b[K     |████████████████████████████████| 19.3 MB 1.2 MB/s \n",
            "\u001b[?25hCollecting mercantile\n",
            "  Downloading mercantile-1.2.1-py3-none-any.whl (14 kB)\n",
            "Requirement already satisfied: joblib in /usr/local/lib/python3.7/dist-packages (from contextily) (1.0.1)\n",
            "Requirement already satisfied: pillow in /usr/local/lib/python3.7/dist-packages (from contextily) (7.1.2)\n",
            "Requirement already satisfied: matplotlib in /usr/local/lib/python3.7/dist-packages (from contextily) (3.2.2)\n",
            "Requirement already satisfied: geographiclib<2,>=1.49 in /usr/local/lib/python3.7/dist-packages (from geopy->contextily) (1.52)\n",
            "Requirement already satisfied: numpy>=1.11 in /usr/local/lib/python3.7/dist-packages (from matplotlib->contextily) (1.19.5)\n",
            "Requirement already satisfied: kiwisolver>=1.0.1 in /usr/local/lib/python3.7/dist-packages (from matplotlib->contextily) (1.3.2)\n",
            "Requirement already satisfied: python-dateutil>=2.1 in /usr/local/lib/python3.7/dist-packages (from matplotlib->contextily) (2.8.2)\n",
            "Requirement already satisfied: pyparsing!=2.0.4,!=2.1.2,!=2.1.6,>=2.0.1 in /usr/local/lib/python3.7/dist-packages (from matplotlib->contextily) (2.4.7)\n",
            "Requirement already satisfied: cycler>=0.10 in /usr/local/lib/python3.7/dist-packages (from matplotlib->contextily) (0.10.0)\n",
            "Requirement already satisfied: six in /usr/local/lib/python3.7/dist-packages (from cycler>=0.10->matplotlib->contextily) (1.15.0)\n",
            "Requirement already satisfied: click>=3.0 in /usr/local/lib/python3.7/dist-packages (from mercantile->contextily) (7.1.2)\n",
            "Requirement already satisfied: attrs in /usr/local/lib/python3.7/dist-packages (from rasterio->contextily) (21.2.0)\n",
            "Requirement already satisfied: click-plugins in /usr/local/lib/python3.7/dist-packages (from rasterio->contextily) (1.1.1)\n",
            "Requirement already satisfied: cligj>=0.5 in /usr/local/lib/python3.7/dist-packages (from rasterio->contextily) (0.7.2)\n",
            "Requirement already satisfied: setuptools in /usr/local/lib/python3.7/dist-packages (from rasterio->contextily) (57.4.0)\n",
            "Collecting snuggs>=1.4.1\n",
            "  Downloading snuggs-1.4.7-py3-none-any.whl (5.4 kB)\n",
            "Requirement already satisfied: certifi in /usr/local/lib/python3.7/dist-packages (from rasterio->contextily) (2021.5.30)\n",
            "Collecting affine\n",
            "  Downloading affine-2.3.0-py2.py3-none-any.whl (15 kB)\n",
            "Requirement already satisfied: chardet<4,>=3.0.2 in /usr/local/lib/python3.7/dist-packages (from requests->contextily) (3.0.4)\n",
            "Requirement already satisfied: urllib3!=1.25.0,!=1.25.1,<1.26,>=1.21.1 in /usr/local/lib/python3.7/dist-packages (from requests->contextily) (1.24.3)\n",
            "Requirement already satisfied: idna<3,>=2.5 in /usr/local/lib/python3.7/dist-packages (from requests->contextily) (2.10)\n",
            "Installing collected packages: snuggs, affine, rasterio, mercantile, contextily\n",
            "Successfully installed affine-2.3.0 contextily-1.1.0 mercantile-1.2.1 rasterio-1.2.10 snuggs-1.4.7\n"
          ]
        }
      ]
    },
    {
      "cell_type": "markdown",
      "metadata": {
        "id": "a5f724f6"
      },
      "source": [
        "### 1) Importing the data file from Google drive."
      ],
      "id": "a5f724f6"
    },
    {
      "cell_type": "code",
      "metadata": {
        "colab": {
          "base_uri": "https://localhost:8080/"
        },
        "id": "e857b387",
        "outputId": "7d039628-bc39-4a80-8bf9-dbc8a976b970"
      },
      "source": [
        "# Import Data\n",
        "\n",
        "from google.colab import drive\n",
        "drive.mount('/content/gdrive')\n",
        "\n"
      ],
      "id": "e857b387",
      "execution_count": 4,
      "outputs": [
        {
          "output_type": "stream",
          "name": "stdout",
          "text": [
            "Mounted at /content/gdrive\n"
          ]
        }
      ]
    },
    {
      "cell_type": "code",
      "metadata": {
        "id": "nW2IuoqgQLO8"
      },
      "source": [
        "df = pd.read_csv('/content/gdrive/MyDrive/Charlotte 311 Calls Project/Data/Service_Requests_311.csv')\n"
      ],
      "id": "nW2IuoqgQLO8",
      "execution_count": 5,
      "outputs": []
    },
    {
      "cell_type": "markdown",
      "metadata": {
        "id": "513ecf1e"
      },
      "source": [
        "### 2) Taking a look at the our data"
      ],
      "id": "513ecf1e"
    },
    {
      "cell_type": "code",
      "metadata": {
        "colab": {
          "base_uri": "https://localhost:8080/",
          "height": 469
        },
        "id": "22457ea0",
        "outputId": "5869d810-c5c1-4965-d116-69bfd5473305"
      },
      "source": [
        "# Taking a look at the data\n",
        "df.head()"
      ],
      "id": "22457ea0",
      "execution_count": 6,
      "outputs": [
        {
          "output_type": "execute_result",
          "data": {
            "text/html": [
              "<div>\n",
              "<style scoped>\n",
              "    .dataframe tbody tr th:only-of-type {\n",
              "        vertical-align: middle;\n",
              "    }\n",
              "\n",
              "    .dataframe tbody tr th {\n",
              "        vertical-align: top;\n",
              "    }\n",
              "\n",
              "    .dataframe thead th {\n",
              "        text-align: right;\n",
              "    }\n",
              "</style>\n",
              "<table border=\"1\" class=\"dataframe\">\n",
              "  <thead>\n",
              "    <tr style=\"text-align: right;\">\n",
              "      <th></th>\n",
              "      <th>X</th>\n",
              "      <th>Y</th>\n",
              "      <th>OBJECTID</th>\n",
              "      <th>DEPARTMENT</th>\n",
              "      <th>DIVISION</th>\n",
              "      <th>REQUEST_NO</th>\n",
              "      <th>FISCAL_YEAR</th>\n",
              "      <th>FISCAL_MONTH</th>\n",
              "      <th>REQUEST_TYPE</th>\n",
              "      <th>RECEIVED_DATE</th>\n",
              "      <th>INTERNAL_FIELD_OBSERVATION</th>\n",
              "      <th>TITLE</th>\n",
              "      <th>CMPD_DIVISION</th>\n",
              "      <th>NEIGHBORHOOD_PROFILE_AREA</th>\n",
              "      <th>BLOCK_NO</th>\n",
              "      <th>STREET_DIRECTION</th>\n",
              "      <th>STREET_NAME</th>\n",
              "      <th>STREET_TYPE</th>\n",
              "      <th>CITY</th>\n",
              "      <th>STATE</th>\n",
              "      <th>ZIP_CODE</th>\n",
              "      <th>FULL_ADDRESS</th>\n",
              "      <th>X_COORD</th>\n",
              "      <th>Y_COORD</th>\n",
              "      <th>LATITUDE</th>\n",
              "      <th>LONGITUDE</th>\n",
              "      <th>COUNCIL_DISTRICT</th>\n",
              "      <th>GlobalID</th>\n",
              "      <th>PID</th>\n",
              "      <th>Shape</th>\n",
              "    </tr>\n",
              "  </thead>\n",
              "  <tbody>\n",
              "    <tr>\n",
              "      <th>0</th>\n",
              "      <td>1.458251e+06</td>\n",
              "      <td>508075.000119</td>\n",
              "      <td>1</td>\n",
              "      <td>Solid Waste Services</td>\n",
              "      <td>Sanitation</td>\n",
              "      <td>6402056</td>\n",
              "      <td>2017</td>\n",
              "      <td>05-Nov</td>\n",
              "      <td>NON_RECYCLABLE ITEMS</td>\n",
              "      <td>2016/11/07 14:25:00+00</td>\n",
              "      <td>N</td>\n",
              "      <td>NON_RECYCLABLE ITEMS</td>\n",
              "      <td>NaN</td>\n",
              "      <td>215.0</td>\n",
              "      <td>3601.0</td>\n",
              "      <td>NaN</td>\n",
              "      <td>KNAPDALE</td>\n",
              "      <td>LN</td>\n",
              "      <td>CHARLOTTE</td>\n",
              "      <td>NC</td>\n",
              "      <td>28226.0</td>\n",
              "      <td>3601 KNAPDALE LN, CHARLOTTE, NC  28226</td>\n",
              "      <td>1458251.0</td>\n",
              "      <td>508075.0</td>\n",
              "      <td>35.132444</td>\n",
              "      <td>-80.812089</td>\n",
              "      <td>NaN</td>\n",
              "      <td>{35439C7B-D8E4-4296-9119-8673B1D5A7C8}</td>\n",
              "      <td>20904304</td>\n",
              "      <td>NaN</td>\n",
              "    </tr>\n",
              "    <tr>\n",
              "      <th>1</th>\n",
              "      <td>1.468687e+06</td>\n",
              "      <td>587225.999953</td>\n",
              "      <td>2</td>\n",
              "      <td>Housing and NBHD Serv</td>\n",
              "      <td>311 Partner Liaison</td>\n",
              "      <td>6402064</td>\n",
              "      <td>2017</td>\n",
              "      <td>05-Nov</td>\n",
              "      <td>UTILITY VERIFICATION LTR</td>\n",
              "      <td>2016/11/07 14:28:00+00</td>\n",
              "      <td>N</td>\n",
              "      <td>UTILITY VERIFICATION LTR</td>\n",
              "      <td>NaN</td>\n",
              "      <td>265.0</td>\n",
              "      <td>4124.0</td>\n",
              "      <td>NaN</td>\n",
              "      <td>SILVERMERE</td>\n",
              "      <td>WY</td>\n",
              "      <td>CHARLOTTE</td>\n",
              "      <td>NC</td>\n",
              "      <td>28269.0</td>\n",
              "      <td>4124 SILVERMERE WY, CHARLOTTE, NC  28269</td>\n",
              "      <td>1468687.0</td>\n",
              "      <td>587226.0</td>\n",
              "      <td>35.350408</td>\n",
              "      <td>-80.781941</td>\n",
              "      <td>NaN</td>\n",
              "      <td>{3B4A2DC0-8886-4E8E-95E6-4F426C4E08E2}</td>\n",
              "      <td>02731251</td>\n",
              "      <td>NaN</td>\n",
              "    </tr>\n",
              "    <tr>\n",
              "      <th>2</th>\n",
              "      <td>1.471481e+06</td>\n",
              "      <td>562512.999839</td>\n",
              "      <td>3</td>\n",
              "      <td>Solid Waste Services</td>\n",
              "      <td>Sanitation</td>\n",
              "      <td>6402082</td>\n",
              "      <td>2017</td>\n",
              "      <td>05-Nov</td>\n",
              "      <td>NON_RECYCLABLE ITEMS</td>\n",
              "      <td>2016/11/07 14:34:00+00</td>\n",
              "      <td>N</td>\n",
              "      <td>Non-recyclable Items</td>\n",
              "      <td>NaN</td>\n",
              "      <td>103.0</td>\n",
              "      <td>523.0</td>\n",
              "      <td>NaN</td>\n",
              "      <td>GRAHAM MEADOW</td>\n",
              "      <td>DR</td>\n",
              "      <td>CHARLOTTE</td>\n",
              "      <td>NC</td>\n",
              "      <td>28213.0</td>\n",
              "      <td>523 GRAHAM MEADOW DR, CHARLOTTE, NC  28213</td>\n",
              "      <td>1471481.0</td>\n",
              "      <td>562513.0</td>\n",
              "      <td>35.282654</td>\n",
              "      <td>-80.771094</td>\n",
              "      <td>NaN</td>\n",
              "      <td>{C3E4CF76-7630-4356-8216-428445A0903F}</td>\n",
              "      <td>08917486</td>\n",
              "      <td>NaN</td>\n",
              "    </tr>\n",
              "    <tr>\n",
              "      <th>3</th>\n",
              "      <td>1.438992e+06</td>\n",
              "      <td>568604.000124</td>\n",
              "      <td>4</td>\n",
              "      <td>Solid Waste Services</td>\n",
              "      <td>Sanitation</td>\n",
              "      <td>6402103</td>\n",
              "      <td>2017</td>\n",
              "      <td>05-Nov</td>\n",
              "      <td>MISSED RECYCLING</td>\n",
              "      <td>2016/11/07 14:41:00+00</td>\n",
              "      <td>N</td>\n",
              "      <td>MISSED RECYCLING</td>\n",
              "      <td>NaN</td>\n",
              "      <td>158.0</td>\n",
              "      <td>1801.0</td>\n",
              "      <td>NaN</td>\n",
              "      <td>CRANDON</td>\n",
              "      <td>DR</td>\n",
              "      <td>CHARLOTTE</td>\n",
              "      <td>NC</td>\n",
              "      <td>28216.0</td>\n",
              "      <td>1801 CRANDON DR, CHARLOTTE, NC  28216</td>\n",
              "      <td>1438992.0</td>\n",
              "      <td>568604.0</td>\n",
              "      <td>35.297745</td>\n",
              "      <td>-80.880327</td>\n",
              "      <td>NaN</td>\n",
              "      <td>{FC3B4CD8-1131-42B4-A37E-8CA448855B24}</td>\n",
              "      <td>03925515</td>\n",
              "      <td>NaN</td>\n",
              "    </tr>\n",
              "    <tr>\n",
              "      <th>4</th>\n",
              "      <td>NaN</td>\n",
              "      <td>NaN</td>\n",
              "      <td>5</td>\n",
              "      <td>Transit</td>\n",
              "      <td>Transit/Operations</td>\n",
              "      <td>6402111</td>\n",
              "      <td>2017</td>\n",
              "      <td>05-Nov</td>\n",
              "      <td>CITIZEN FEEDBACK</td>\n",
              "      <td>2016/11/07 14:44:00+00</td>\n",
              "      <td>N</td>\n",
              "      <td>CITIZEN FEEDBACK</td>\n",
              "      <td>NaN</td>\n",
              "      <td>NaN</td>\n",
              "      <td>NaN</td>\n",
              "      <td>NaN</td>\n",
              "      <td>NaN</td>\n",
              "      <td>NaN</td>\n",
              "      <td>NaN</td>\n",
              "      <td>NaN</td>\n",
              "      <td>NaN</td>\n",
              "      <td>NaN</td>\n",
              "      <td>NaN</td>\n",
              "      <td>NaN</td>\n",
              "      <td>NaN</td>\n",
              "      <td>NaN</td>\n",
              "      <td>NaN</td>\n",
              "      <td>{E0166346-2381-40E1-80A0-2ECA4FB6CB27}</td>\n",
              "      <td>NaN</td>\n",
              "      <td>NaN</td>\n",
              "    </tr>\n",
              "  </tbody>\n",
              "</table>\n",
              "</div>"
            ],
            "text/plain": [
              "              X              Y  ...       PID Shape\n",
              "0  1.458251e+06  508075.000119  ...  20904304   NaN\n",
              "1  1.468687e+06  587225.999953  ...  02731251   NaN\n",
              "2  1.471481e+06  562512.999839  ...  08917486   NaN\n",
              "3  1.438992e+06  568604.000124  ...  03925515   NaN\n",
              "4           NaN            NaN  ...       NaN   NaN\n",
              "\n",
              "[5 rows x 30 columns]"
            ]
          },
          "metadata": {},
          "execution_count": 6
        }
      ]
    },
    {
      "cell_type": "code",
      "metadata": {
        "id": "a1a4188a",
        "outputId": "ee41ef04-36d8-4251-d130-32a8897fcdb4"
      },
      "source": [
        "# More exploration\n",
        "# Lets take a look at how each variable is stored\n",
        "df.info()"
      ],
      "id": "a1a4188a",
      "execution_count": null,
      "outputs": [
        {
          "name": "stdout",
          "output_type": "stream",
          "text": [
            "<class 'pandas.core.frame.DataFrame'>\n",
            "RangeIndex: 1631510 entries, 0 to 1631509\n",
            "Data columns (total 30 columns):\n",
            " #   Column                      Non-Null Count    Dtype  \n",
            "---  ------                      --------------    -----  \n",
            " 0   X                           1559084 non-null  float64\n",
            " 1   Y                           1559084 non-null  float64\n",
            " 2   OBJECTID                    1631510 non-null  int64  \n",
            " 3   DEPARTMENT                  1631510 non-null  object \n",
            " 4   DIVISION                    1623095 non-null  object \n",
            " 5   REQUEST_NO                  1631510 non-null  int64  \n",
            " 6   FISCAL_YEAR                 1631510 non-null  int64  \n",
            " 7   FISCAL_MONTH                1631510 non-null  object \n",
            " 8   REQUEST_TYPE                1631510 non-null  object \n",
            " 9   RECEIVED_DATE               1631510 non-null  object \n",
            " 10  INTERNAL_FIELD_OBSERVATION  1631510 non-null  object \n",
            " 11  TITLE                       1631510 non-null  object \n",
            " 12  CMPD_DIVISION               45672 non-null    object \n",
            " 13  NEIGHBORHOOD_PROFILE_AREA   1559062 non-null  float64\n",
            " 14  BLOCK_NO                    1587157 non-null  float64\n",
            " 15  STREET_DIRECTION            56107 non-null    object \n",
            " 16  STREET_NAME                 1624342 non-null  object \n",
            " 17  STREET_TYPE                 1618269 non-null  object \n",
            " 18  CITY                        1624342 non-null  object \n",
            " 19  STATE                       1624342 non-null  object \n",
            " 20  ZIP_CODE                    1586427 non-null  float64\n",
            " 21  FULL_ADDRESS                1624342 non-null  object \n",
            " 22  X_COORD                     1559084 non-null  float64\n",
            " 23  Y_COORD                     1559084 non-null  float64\n",
            " 24  LATITUDE                    1559077 non-null  float64\n",
            " 25  LONGITUDE                   1559077 non-null  float64\n",
            " 26  COUNCIL_DISTRICT            45670 non-null    float64\n",
            " 27  GlobalID                    1631510 non-null  object \n",
            " 28  PID                         1527341 non-null  object \n",
            " 29  Shape                       0 non-null        float64\n",
            "dtypes: float64(11), int64(3), object(16)\n",
            "memory usage: 373.4+ MB\n"
          ]
        }
      ]
    },
    {
      "cell_type": "code",
      "metadata": {
        "id": "56776508",
        "outputId": "d455e98c-842c-4b3e-c631-e21f9870847e"
      },
      "source": [
        "# Lets check the Value Counts\n",
        "df['REQUEST_TYPE'].value_counts().head(30).sort_values(ascending=False)"
      ],
      "id": "56776508",
      "execution_count": null,
      "outputs": [
        {
          "data": {
            "text/plain": [
              "NON_RECYCLABLE ITEMS         831737\n",
              "RECYCLABLE ITEMS             199452\n",
              "HNS HEALTH AND SANITATION     85031\n",
              "CART REPAIR-GARBAGE           36541\n",
              "MISSED RECYCLING              27471\n",
              "SW DOCUMENT GARBAGE           26729\n",
              "311 DOCUMENT                  25395\n",
              "CDOT STREETLIGHT REPAIR       19216\n",
              "SW DOCUMENT RECYCLING         17932\n",
              "DEAD ANIMAL COLLECTION        16727\n",
              "CART ISSUE/MISSING CART       15121\n",
              "TIRES                         13577\n",
              "SW DOCUMENT YARD WASTE        13186\n",
              "CART DELIVERY RECYCLING       11835\n",
              "COMPLAINT                     11788\n",
              "ZONING/COMPLAINT/ INSPECT     11767\n",
              "CART(S) DEL- NEW BUILD        11324\n",
              "CART ONLY DELIVER-GARB        11235\n",
              "CART REPAIR-RECYCLE            9933\n",
              "ZON GENERAL INFO  INQUIRY      9805\n",
              "CDOT POTHOLE REPAIR            9416\n",
              "HNS HOUSING                    8405\n",
              "CART PURCHASE 2ND-GARBAGE      8077\n",
              "MISSED GARBAGE                 7330\n",
              "CDOT STREET SIGN REP/REPL      7260\n",
              "PARKING ON LAWN WORKDAYS       6956\n",
              "STREET SWEEPING/FLUSHING       6824\n",
              "GRAFFITI                       6285\n",
              "EROSION                        5405\n",
              "DUMPING IN STREET/ROW          5401\n",
              "Name: REQUEST_TYPE, dtype: int64"
            ]
          },
          "execution_count": 5,
          "metadata": {},
          "output_type": "execute_result"
        }
      ]
    },
    {
      "cell_type": "code",
      "metadata": {
        "scrolled": false,
        "id": "c3cf2ad4",
        "outputId": "55ce7f3f-d84b-4a47-9028-a8c867de88b3"
      },
      "source": [
        "df['REQUEST_TYPE'].unique().tolist()"
      ],
      "id": "c3cf2ad4",
      "execution_count": null,
      "outputs": [
        {
          "data": {
            "text/plain": [
              "['NON_RECYCLABLE ITEMS',\n",
              " 'UTILITY VERIFICATION LTR',\n",
              " 'MISSED RECYCLING',\n",
              " 'CITIZEN FEEDBACK',\n",
              " 'CWP REQUEST',\n",
              " 'RECYCLABLE ITEMS',\n",
              " 'CART REPAIR-GARBAGE',\n",
              " '311 DOCUMENT',\n",
              " 'HNS HEALTH AND SANITATION',\n",
              " 'ZON DAYCARE/CHILDCARE INQ',\n",
              " 'CDOT STREETLIGHT REPAIR',\n",
              " 'ZON SIGNS INQUIRY',\n",
              " 'CART ISSUE/MISSING CART',\n",
              " 'CART(S) DEL- NEW BUILD',\n",
              " 'CART REPAIR-RECYCLE',\n",
              " 'CDOT STREET SIGN REP/REPL',\n",
              " 'SW DOCUMENT BULKY ITEMS',\n",
              " 'TIRES',\n",
              " 'LANDSCAPE TREES',\n",
              " 'CART DELIVERY RECYCLING',\n",
              " 'TAX BILL INQUIRY',\n",
              " 'CART PURCHASE 2ND-GARBAGE',\n",
              " 'FIELD OBSERVED PROBLEM',\n",
              " 'SW DOCUMENT YARD WASTE',\n",
              " 'LITTER/DEBRIS IN STREET',\n",
              " 'SWS CART SHIPMT REVIEW',\n",
              " 'ZONGROUP/BOARDING HOMES',\n",
              " 'INVALID/NEW SW ADDRESS',\n",
              " 'FLOODING',\n",
              " 'SW DOCUMENT GARBAGE',\n",
              " 'DEAD ANIMAL COLLECTION',\n",
              " 'SW DOCUMENT RECYCLING',\n",
              " 'ZON RESIDENTIAL PERMITS',\n",
              " 'INVESTIGATE/CONTACT RECY',\n",
              " 'HNS HOUSING',\n",
              " 'CART ONLY DELIVER-GARB',\n",
              " 'CART PURCHASE 2ND-RECYCLE',\n",
              " 'CDOT TRAF SIGNAL TIMING',\n",
              " 'CART PICKUP-RECYCLE',\n",
              " '3-1-1 ESCALATION REQUEST',\n",
              " 'CDOT TRAFFIC CALMING',\n",
              " 'ZON SUPERVISORY COMPLAINT',\n",
              " 'CDOT GRATE DAMAGE/REPLACE',\n",
              " 'INVESTIGATE/CONTACT BULKY',\n",
              " 'CART PICKUP- GARBAGE',\n",
              " 'COMPLAINT',\n",
              " 'MISSED BULKY ITEM',\n",
              " 'CDOT SIGHT OBSTRUCTION',\n",
              " 'COMPLIMENT/THANKS',\n",
              " 'STREET SWEEPING/FLUSHING',\n",
              " 'SWAT-A-LITTERBUG',\n",
              " 'PARKING ON LAWN WORKDAYS',\n",
              " 'CDOT CLEAN CATCH BASIN',\n",
              " 'ZONING/COMPLAINT/ INSPECT',\n",
              " 'CDOT POTHOLE REPAIR',\n",
              " 'NCDOT POTHOLE REQUEST',\n",
              " 'PARKING ON LAWN OFFHOURS',\n",
              " 'CDOT NEW SIGN',\n",
              " 'CDOT FLOODING',\n",
              " 'ZON FENCE/OPEN SPACE INQ',\n",
              " 'SWS LIAISON',\n",
              " 'EROSION',\n",
              " 'CDOT SIDEWALK REPAIR',\n",
              " 'CDOT NEW CROSSWALK',\n",
              " 'STW CNTY WATER QUALITY',\n",
              " 'REQUEST DISABILITY FORM',\n",
              " 'ZON GENERAL INFO  INQUIRY',\n",
              " 'INVESTIGATE/CONTACT GARB',\n",
              " 'ZONSETBACKS/STORAGE BUILD',\n",
              " 'DUMPING IN STREET/ROW',\n",
              " 'INVESTIGATE/CONTACT YD WT',\n",
              " 'CDOT BASKETBALL',\n",
              " 'MISSED GARBAGE',\n",
              " 'GRAFFITI',\n",
              " 'NEW SERVICE/CHNG MLTIPLX',\n",
              " 'CDOT ROAD QUALITY',\n",
              " 'SIDEWALK OBSTRUCT OTHER',\n",
              " 'DAMAGE/INVESTIGATE GARB',\n",
              " 'CDOT MISCELLANEOUS',\n",
              " 'CDOT NEW STREETLIGHTS',\n",
              " 'CDOT RESURFACING ISSUES',\n",
              " 'BLOCKAGE',\n",
              " 'SIGNS (NOT FOR 311 USE)',\n",
              " 'MUD IN STREET-CONSTRUCTIO',\n",
              " 'ZONHOME BUSINESS/APPROVAL',\n",
              " 'BOARDED UP STRUCTURE',\n",
              " 'STW GENERAL INQUIRY',\n",
              " 'CDOT NEW TRAFFIC SIGNAL',\n",
              " 'ZON WATERSHED/SWPE INQ',\n",
              " 'SPILLED YARD WASTE',\n",
              " 'SPILLED RECYCLING',\n",
              " 'CDOT TRAF SIGNAL REPAIR',\n",
              " 'PARK & REC SVC REQUEST',\n",
              " 'SPILLED GARBAGE',\n",
              " 'POLLUTION',\n",
              " 'ZONMOBILE FOOD/TENT SALES',\n",
              " 'MISSED BUSINESS GARBAGE',\n",
              " 'ANIMAL FOUND REPORT',\n",
              " 'MISSED YARD WASTE',\n",
              " 'INQUIRY',\n",
              " 'DAMAGE/INVESTIGATE RECY',\n",
              " 'STW OTHER',\n",
              " 'CDOT NEW SIDEWALK',\n",
              " 'ZON VERIFICATION LETTERS',\n",
              " 'SW ESCALATION REQUEST',\n",
              " 'CONTENT IMPROVEMENT PROG',\n",
              " 'SW ONLY-DOOR HANGER LEFT',\n",
              " 'MULTIPLEX REVIEW',\n",
              " 'STREET MAINTENANCE - SNOW',\n",
              " 'CWP REQUEST-HIGH PRIORITY',\n",
              " 'ZON ABC PERMITS INQUIRY',\n",
              " 'SW REMINDER YARD-SW USE',\n",
              " 'NON-RESIDEN BUILDING CODE',\n",
              " 'PLANNING INQUIRY',\n",
              " 'SIDEWALK OBSTR CONTAINERS',\n",
              " 'LANDSCAPE LIMBS',\n",
              " 'ZON HOLDS RELEASE REQUEST',\n",
              " 'CURRENT DISABLED SERVICE',\n",
              " 'CDOT GUARD RAIL',\n",
              " 'SUGGESTION/IDEA',\n",
              " 'DAMAGE/INVESTIGATE YRD WS',\n",
              " 'DISABILITY CANCEL/ CHANGE',\n",
              " 'MOBILE APP FEEDBACK',\n",
              " 'SPILLED BULKY ITEMS',\n",
              " 'SWS CART DATA LOAD',\n",
              " 'SWS CART RETIRE REVIEW',\n",
              " 'REQUEST FOR SPEAKER',\n",
              " 'DAMAGE/INVESTIGATE BULKY',\n",
              " 'ZON APPEALS/CITATIONS INQ',\n",
              " 'SW REMINDER RECY-SW USE',\n",
              " 'LAND DEVELOPMENT INQUIRY',\n",
              " 'DISABLED INSPECTION (SWS)',\n",
              " 'BUS STOP-FULL TRASH  CAN',\n",
              " 'UT RATE CHANGE',\n",
              " 'SMOKING VEHICLE REPORT',\n",
              " 'BULKY ITEM SCHEDULE',\n",
              " 'PARK & REC REFUND/CANCEL',\n",
              " 'MUD IN THE STREET',\n",
              " 'ON CALL - SWS SPEC SERV',\n",
              " 'ADOPT-A PICKUP SWS',\n",
              " 'BUS STOP-TRASH CAN MISC',\n",
              " 'SW REMINDER GARB-SW USE',\n",
              " 'DISABILITY ACT',\n",
              " 'OPINION',\n",
              " 'SW REMINDER BULKY-SW USE',\n",
              " 'ZON SETBACKS',\n",
              " 'ZON STORAGE BLDG/ACC UNIT',\n",
              " 'UT/MANDATORY',\n",
              " 'COMPLEX PROBLEM',\n",
              " 'COVID 19-PUBLIC GATHERING',\n",
              " 'COVID 19-STAY HOME VIOL',\n",
              " 'COVID 19-PRICE GOUGING',\n",
              " 'BUS STOP-REMOVE TRASH CAN',\n",
              " 'BUS FACILITIES MAINT',\n",
              " 'UT/LANDSCAPE',\n",
              " 'ZON SUBDIVIDE PROP/DUPLX',\n",
              " 'SWS MLTFMLY FIELD OBSERVE',\n",
              " 'SW EXCESSIVE STORM-SW USE',\n",
              " 'SW FIELD OBSERVED TO CI',\n",
              " 'CART PICKUP BUSN GARB',\n",
              " 'CART REPAIR-BUSN GARB',\n",
              " 'CART DELIVERY BUSN GARB',\n",
              " 'TELL TRANSIT CONCERN',\n",
              " 'CART ONLY DELIVER-RECY',\n",
              " 'NEW SVC BUSINESS GARBAGE']"
            ]
          },
          "execution_count": 6,
          "metadata": {},
          "output_type": "execute_result"
        }
      ]
    },
    {
      "cell_type": "code",
      "metadata": {
        "id": "35cf400c"
      },
      "source": [
        "df2 = df[['RECEIVED_DATE', 'DEPARTMENT', 'REQUEST_TYPE', 'CMPD_DIVISION', 'ZIP_CODE']]\n"
      ],
      "id": "35cf400c",
      "execution_count": null,
      "outputs": []
    },
    {
      "cell_type": "code",
      "metadata": {
        "id": "889ee7a4",
        "outputId": "e16c6859-e93b-49fe-d502-cc102d143598"
      },
      "source": [
        "# create barplot\n",
        "df['REQUEST_TYPE'].value_counts().head(30).plot(kind='barh', figsize=(15,10))"
      ],
      "id": "889ee7a4",
      "execution_count": null,
      "outputs": [
        {
          "data": {
            "text/plain": [
              "<AxesSubplot:>"
            ]
          },
          "execution_count": 11,
          "metadata": {},
          "output_type": "execute_result"
        },
        {
          "data": {
            "image/png": "[encoded data removed]",
            "text/plain": [
              "<Figure size 1080x720 with 1 Axes>"
            ]
          },
          "metadata": {
            "needs_background": "light"
          },
          "output_type": "display_data"
        }
      ]
    },
    {
      "cell_type": "code",
      "metadata": {
        "id": "6677a0b5",
        "outputId": "4826ba06-5936-4f77-98d2-45f267b17f33"
      },
      "source": [
        "# create barplot\n",
        "df['DEPARTMENT'].value_counts().head(10).plot(kind='barh', figsize=(15,8))"
      ],
      "id": "6677a0b5",
      "execution_count": null,
      "outputs": [
        {
          "data": {
            "text/plain": [
              "<AxesSubplot:>"
            ]
          },
          "execution_count": 57,
          "metadata": {},
          "output_type": "execute_result"
        },
        {
          "data": {
            "image/png": "[encoded data removed]",
            "text/plain": [
              "<Figure size 1080x576 with 1 Axes>"
            ]
          },
          "metadata": {},
          "output_type": "display_data"
        }
      ]
    },
    {
      "cell_type": "code",
      "metadata": {
        "id": "78b7c374",
        "outputId": "e97c3dd5-5ffc-4c07-a938-54e040d7da2e"
      },
      "source": [
        "# create barplot\n",
        "df['CMPD_DIVISION'].value_counts().head(30).plot(kind='barh', figsize=(15,10))"
      ],
      "id": "78b7c374",
      "execution_count": null,
      "outputs": [
        {
          "data": {
            "text/plain": [
              "<AxesSubplot:>"
            ]
          },
          "execution_count": 60,
          "metadata": {},
          "output_type": "execute_result"
        },
        {
          "data": {
            "image/png": "[encoded data removed]",
            "text/plain": [
              "<Figure size 1080x720 with 1 Axes>"
            ]
          },
          "metadata": {},
          "output_type": "display_data"
        }
      ]
    },
    {
      "cell_type": "code",
      "metadata": {
        "id": "5460d8bf"
      },
      "source": [
        ""
      ],
      "id": "5460d8bf",
      "execution_count": null,
      "outputs": []
    }
  ]
}