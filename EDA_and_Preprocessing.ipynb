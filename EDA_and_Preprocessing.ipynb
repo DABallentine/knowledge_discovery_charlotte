{
  "nbformat": 4,
  "nbformat_minor": 0,
  "metadata": {
    "colab": {
      "name": "EDA and Preprocessing.ipynb",
      "provenance": [],
      "machine_shape": "hm",
      "authorship_tag": "ABX9TyMJsUxLbCUnKf5lYaCOSiBj",
      "include_colab_link": true
    },
    "kernelspec": {
      "name": "python3",
      "display_name": "Python 3"
    },
    "language_info": {
      "name": "python"
    }
  },
  "cells": [
    {
      "cell_type": "markdown",
      "metadata": {
        "id": "view-in-github",
        "colab_type": "text"
      },
      "source": [
        "<a href=\"https://colab.research.google.com/github/DABallentine/knowledge_discovery_charlotte/blob/Dustin/EDA_and_Preprocessing.ipynb\" target=\"_parent\"><img src=\"https://colab.research.google.com/assets/colab-badge.svg\" alt=\"Open In Colab\"/></a>"
      ]
    },
    {
      "cell_type": "markdown",
      "metadata": {
        "id": "mTm4a5C5Mn45"
      },
      "source": [
        "# Charlotte 311 Service Request Analysis\n",
        "\n",
        "<h1> <b> Exploratory Data Analysis and Preprocessing </b> </h1>"
      ]
    },
    {
      "cell_type": "markdown",
      "metadata": {
        "id": "ebNyiaZHOo8Z"
      },
      "source": [
        "## Data Import and Survey"
      ]
    },
    {
      "cell_type": "code",
      "metadata": {
        "id": "8U4MHX3WccUc"
      },
      "source": [
        "import pandas as pd\n",
        "import numpy as np\n",
        "import matplotlib.pyplot as plt\n",
        "import seaborn as sns\n",
        "plt.style.use('ggplot')"
      ],
      "execution_count": 1,
      "outputs": []
    },
    {
      "cell_type": "code",
      "metadata": {
        "colab": {
          "base_uri": "https://localhost:8080/"
        },
        "id": "uHYlW7uDPztl",
        "outputId": "967cf092-f028-4b72-bdec-4ee96adb86d9"
      },
      "source": [
        "from google.colab import drive\n",
        "drive.mount('/content/gdrive')"
      ],
      "execution_count": 2,
      "outputs": [
        {
          "output_type": "stream",
          "name": "stdout",
          "text": [
            "Mounted at /content/gdrive\n"
          ]
        }
      ]
    },
    {
      "cell_type": "code",
      "metadata": {
        "colab": {
          "base_uri": "https://localhost:8080/",
          "height": 530
        },
        "id": "BlROdFbBW3xv",
        "outputId": "65e273f0-b9d9-498e-da8e-a5e2c1e53cf6"
      },
      "source": [
        "requests = pd.read_csv('/content/gdrive/MyDrive/Data/Service_Requests_311.csv')\n",
        "requests.head()"
      ],
      "execution_count": 4,
      "outputs": [
        {
          "output_type": "execute_result",
          "data": {
            "text/html": [
              "<div>\n",
              "<style scoped>\n",
              "    .dataframe tbody tr th:only-of-type {\n",
              "        vertical-align: middle;\n",
              "    }\n",
              "\n",
              "    .dataframe tbody tr th {\n",
              "        vertical-align: top;\n",
              "    }\n",
              "\n",
              "    .dataframe thead th {\n",
              "        text-align: right;\n",
              "    }\n",
              "</style>\n",
              "<table border=\"1\" class=\"dataframe\">\n",
              "  <thead>\n",
              "    <tr style=\"text-align: right;\">\n",
              "      <th></th>\n",
              "      <th>X</th>\n",
              "      <th>Y</th>\n",
              "      <th>OBJECTID</th>\n",
              "      <th>DEPARTMENT</th>\n",
              "      <th>DIVISION</th>\n",
              "      <th>REQUEST_NO</th>\n",
              "      <th>FISCAL_YEAR</th>\n",
              "      <th>FISCAL_MONTH</th>\n",
              "      <th>REQUEST_TYPE</th>\n",
              "      <th>RECEIVED_DATE</th>\n",
              "      <th>INTERNAL_FIELD_OBSERVATION</th>\n",
              "      <th>TITLE</th>\n",
              "      <th>CMPD_DIVISION</th>\n",
              "      <th>NEIGHBORHOOD_PROFILE_AREA</th>\n",
              "      <th>BLOCK_NO</th>\n",
              "      <th>STREET_DIRECTION</th>\n",
              "      <th>STREET_NAME</th>\n",
              "      <th>STREET_TYPE</th>\n",
              "      <th>CITY</th>\n",
              "      <th>STATE</th>\n",
              "      <th>ZIP_CODE</th>\n",
              "      <th>FULL_ADDRESS</th>\n",
              "      <th>X_COORD</th>\n",
              "      <th>Y_COORD</th>\n",
              "      <th>LATITUDE</th>\n",
              "      <th>LONGITUDE</th>\n",
              "      <th>COUNCIL_DISTRICT</th>\n",
              "      <th>GlobalID</th>\n",
              "      <th>PID</th>\n",
              "      <th>Shape</th>\n",
              "    </tr>\n",
              "  </thead>\n",
              "  <tbody>\n",
              "    <tr>\n",
              "      <th>0</th>\n",
              "      <td>1.458251e+06</td>\n",
              "      <td>508075.000119</td>\n",
              "      <td>1</td>\n",
              "      <td>Solid Waste Services</td>\n",
              "      <td>Sanitation</td>\n",
              "      <td>6402056</td>\n",
              "      <td>2017</td>\n",
              "      <td>05-Nov</td>\n",
              "      <td>NON_RECYCLABLE ITEMS</td>\n",
              "      <td>2016/11/07 14:25:00+00</td>\n",
              "      <td>N</td>\n",
              "      <td>NON_RECYCLABLE ITEMS</td>\n",
              "      <td>NaN</td>\n",
              "      <td>215.0</td>\n",
              "      <td>3601.0</td>\n",
              "      <td>NaN</td>\n",
              "      <td>KNAPDALE</td>\n",
              "      <td>LN</td>\n",
              "      <td>CHARLOTTE</td>\n",
              "      <td>NC</td>\n",
              "      <td>28226.0</td>\n",
              "      <td>3601 KNAPDALE LN, CHARLOTTE, NC  28226</td>\n",
              "      <td>1458251.0</td>\n",
              "      <td>508075.0</td>\n",
              "      <td>35.132444</td>\n",
              "      <td>-80.812089</td>\n",
              "      <td>NaN</td>\n",
              "      <td>{35439C7B-D8E4-4296-9119-8673B1D5A7C8}</td>\n",
              "      <td>20904304</td>\n",
              "      <td>NaN</td>\n",
              "    </tr>\n",
              "    <tr>\n",
              "      <th>1</th>\n",
              "      <td>1.468687e+06</td>\n",
              "      <td>587225.999953</td>\n",
              "      <td>2</td>\n",
              "      <td>Housing and NBHD Serv</td>\n",
              "      <td>311 Partner Liaison</td>\n",
              "      <td>6402064</td>\n",
              "      <td>2017</td>\n",
              "      <td>05-Nov</td>\n",
              "      <td>UTILITY VERIFICATION LTR</td>\n",
              "      <td>2016/11/07 14:28:00+00</td>\n",
              "      <td>N</td>\n",
              "      <td>UTILITY VERIFICATION LTR</td>\n",
              "      <td>NaN</td>\n",
              "      <td>265.0</td>\n",
              "      <td>4124.0</td>\n",
              "      <td>NaN</td>\n",
              "      <td>SILVERMERE</td>\n",
              "      <td>WY</td>\n",
              "      <td>CHARLOTTE</td>\n",
              "      <td>NC</td>\n",
              "      <td>28269.0</td>\n",
              "      <td>4124 SILVERMERE WY, CHARLOTTE, NC  28269</td>\n",
              "      <td>1468687.0</td>\n",
              "      <td>587226.0</td>\n",
              "      <td>35.350408</td>\n",
              "      <td>-80.781941</td>\n",
              "      <td>NaN</td>\n",
              "      <td>{3B4A2DC0-8886-4E8E-95E6-4F426C4E08E2}</td>\n",
              "      <td>02731251</td>\n",
              "      <td>NaN</td>\n",
              "    </tr>\n",
              "    <tr>\n",
              "      <th>2</th>\n",
              "      <td>1.471481e+06</td>\n",
              "      <td>562512.999839</td>\n",
              "      <td>3</td>\n",
              "      <td>Solid Waste Services</td>\n",
              "      <td>Sanitation</td>\n",
              "      <td>6402082</td>\n",
              "      <td>2017</td>\n",
              "      <td>05-Nov</td>\n",
              "      <td>NON_RECYCLABLE ITEMS</td>\n",
              "      <td>2016/11/07 14:34:00+00</td>\n",
              "      <td>N</td>\n",
              "      <td>Non-recyclable Items</td>\n",
              "      <td>NaN</td>\n",
              "      <td>103.0</td>\n",
              "      <td>523.0</td>\n",
              "      <td>NaN</td>\n",
              "      <td>GRAHAM MEADOW</td>\n",
              "      <td>DR</td>\n",
              "      <td>CHARLOTTE</td>\n",
              "      <td>NC</td>\n",
              "      <td>28213.0</td>\n",
              "      <td>523 GRAHAM MEADOW DR, CHARLOTTE, NC  28213</td>\n",
              "      <td>1471481.0</td>\n",
              "      <td>562513.0</td>\n",
              "      <td>35.282654</td>\n",
              "      <td>-80.771094</td>\n",
              "      <td>NaN</td>\n",
              "      <td>{C3E4CF76-7630-4356-8216-428445A0903F}</td>\n",
              "      <td>08917486</td>\n",
              "      <td>NaN</td>\n",
              "    </tr>\n",
              "    <tr>\n",
              "      <th>3</th>\n",
              "      <td>1.438992e+06</td>\n",
              "      <td>568604.000124</td>\n",
              "      <td>4</td>\n",
              "      <td>Solid Waste Services</td>\n",
              "      <td>Sanitation</td>\n",
              "      <td>6402103</td>\n",
              "      <td>2017</td>\n",
              "      <td>05-Nov</td>\n",
              "      <td>MISSED RECYCLING</td>\n",
              "      <td>2016/11/07 14:41:00+00</td>\n",
              "      <td>N</td>\n",
              "      <td>MISSED RECYCLING</td>\n",
              "      <td>NaN</td>\n",
              "      <td>158.0</td>\n",
              "      <td>1801.0</td>\n",
              "      <td>NaN</td>\n",
              "      <td>CRANDON</td>\n",
              "      <td>DR</td>\n",
              "      <td>CHARLOTTE</td>\n",
              "      <td>NC</td>\n",
              "      <td>28216.0</td>\n",
              "      <td>1801 CRANDON DR, CHARLOTTE, NC  28216</td>\n",
              "      <td>1438992.0</td>\n",
              "      <td>568604.0</td>\n",
              "      <td>35.297745</td>\n",
              "      <td>-80.880327</td>\n",
              "      <td>NaN</td>\n",
              "      <td>{FC3B4CD8-1131-42B4-A37E-8CA448855B24}</td>\n",
              "      <td>03925515</td>\n",
              "      <td>NaN</td>\n",
              "    </tr>\n",
              "    <tr>\n",
              "      <th>4</th>\n",
              "      <td>NaN</td>\n",
              "      <td>NaN</td>\n",
              "      <td>5</td>\n",
              "      <td>Transit</td>\n",
              "      <td>Transit/Operations</td>\n",
              "      <td>6402111</td>\n",
              "      <td>2017</td>\n",
              "      <td>05-Nov</td>\n",
              "      <td>CITIZEN FEEDBACK</td>\n",
              "      <td>2016/11/07 14:44:00+00</td>\n",
              "      <td>N</td>\n",
              "      <td>CITIZEN FEEDBACK</td>\n",
              "      <td>NaN</td>\n",
              "      <td>NaN</td>\n",
              "      <td>NaN</td>\n",
              "      <td>NaN</td>\n",
              "      <td>NaN</td>\n",
              "      <td>NaN</td>\n",
              "      <td>NaN</td>\n",
              "      <td>NaN</td>\n",
              "      <td>NaN</td>\n",
              "      <td>NaN</td>\n",
              "      <td>NaN</td>\n",
              "      <td>NaN</td>\n",
              "      <td>NaN</td>\n",
              "      <td>NaN</td>\n",
              "      <td>NaN</td>\n",
              "      <td>{E0166346-2381-40E1-80A0-2ECA4FB6CB27}</td>\n",
              "      <td>NaN</td>\n",
              "      <td>NaN</td>\n",
              "    </tr>\n",
              "  </tbody>\n",
              "</table>\n",
              "</div>"
            ],
            "text/plain": [
              "              X              Y  ...       PID Shape\n",
              "0  1.458251e+06  508075.000119  ...  20904304   NaN\n",
              "1  1.468687e+06  587225.999953  ...  02731251   NaN\n",
              "2  1.471481e+06  562512.999839  ...  08917486   NaN\n",
              "3  1.438992e+06  568604.000124  ...  03925515   NaN\n",
              "4           NaN            NaN  ...       NaN   NaN\n",
              "\n",
              "[5 rows x 30 columns]"
            ]
          },
          "metadata": {},
          "execution_count": 4
        }
      ]
    },
    {
      "cell_type": "code",
      "metadata": {
        "colab": {
          "base_uri": "https://localhost:8080/"
        },
        "id": "ijfJf7GWXQHe",
        "outputId": "091e32c1-57fb-4f7b-df9f-f200ef4c94c2"
      },
      "source": [
        "print(\"Records:\", requests.shape[0])\n",
        "print(\"Features:\", requests.shape[1], \"\\n\")\n",
        "print(requests.info())"
      ],
      "execution_count": 8,
      "outputs": [
        {
          "output_type": "stream",
          "name": "stdout",
          "text": [
            "Records: 1631510\n",
            "Features: 30 \n",
            "\n",
            "<class 'pandas.core.frame.DataFrame'>\n",
            "RangeIndex: 1631510 entries, 0 to 1631509\n",
            "Data columns (total 30 columns):\n",
            " #   Column                      Non-Null Count    Dtype  \n",
            "---  ------                      --------------    -----  \n",
            " 0   X                           1559084 non-null  float64\n",
            " 1   Y                           1559084 non-null  float64\n",
            " 2   OBJECTID                    1631510 non-null  int64  \n",
            " 3   DEPARTMENT                  1631510 non-null  object \n",
            " 4   DIVISION                    1623095 non-null  object \n",
            " 5   REQUEST_NO                  1631510 non-null  int64  \n",
            " 6   FISCAL_YEAR                 1631510 non-null  int64  \n",
            " 7   FISCAL_MONTH                1631510 non-null  object \n",
            " 8   REQUEST_TYPE                1631510 non-null  object \n",
            " 9   RECEIVED_DATE               1631510 non-null  object \n",
            " 10  INTERNAL_FIELD_OBSERVATION  1631510 non-null  object \n",
            " 11  TITLE                       1631510 non-null  object \n",
            " 12  CMPD_DIVISION               45672 non-null    object \n",
            " 13  NEIGHBORHOOD_PROFILE_AREA   1559062 non-null  float64\n",
            " 14  BLOCK_NO                    1587157 non-null  float64\n",
            " 15  STREET_DIRECTION            56107 non-null    object \n",
            " 16  STREET_NAME                 1624342 non-null  object \n",
            " 17  STREET_TYPE                 1618269 non-null  object \n",
            " 18  CITY                        1624342 non-null  object \n",
            " 19  STATE                       1624342 non-null  object \n",
            " 20  ZIP_CODE                    1586427 non-null  float64\n",
            " 21  FULL_ADDRESS                1624342 non-null  object \n",
            " 22  X_COORD                     1559084 non-null  float64\n",
            " 23  Y_COORD                     1559084 non-null  float64\n",
            " 24  LATITUDE                    1559077 non-null  float64\n",
            " 25  LONGITUDE                   1559077 non-null  float64\n",
            " 26  COUNCIL_DISTRICT            45670 non-null    float64\n",
            " 27  GlobalID                    1631510 non-null  object \n",
            " 28  PID                         1527341 non-null  object \n",
            " 29  Shape                       0 non-null        float64\n",
            "dtypes: float64(11), int64(3), object(16)\n",
            "memory usage: 373.4+ MB\n",
            "None\n"
          ]
        }
      ]
    },
    {
      "cell_type": "markdown",
      "metadata": {
        "id": "3U73vByiLI6j"
      },
      "source": [
        "## Initial Variable Selection\n"
      ]
    },
    {
      "cell_type": "markdown",
      "metadata": {
        "id": "0Ko0fiX_iTQV"
      },
      "source": [
        "<b> The following variables will be dropped: </b>\n",
        "<ol>\n",
        "<li> CMPD_DIVISION - too many missing values </li>\n",
        "<li> STREET_DIRECTION - redundant </li>\n",
        "<li> STREET_NAME - redundant </li>\n",
        "<li> STREET_TYPE - redundant </li>\n",
        "<li> CITY - redundant </li>\n",
        "<li> STATE - redundant </li>\n",
        "<li> COUNCIL_DISTRICT - too many missing values </li>\n",
        "<li> GLOBAL_ID - no predictive value </li>\n",
        "<li> PID - no predictive value </li>\n",
        "<li> SHAPE - all missing </li>\n",
        "</ol>"
      ]
    },
    {
      "cell_type": "code",
      "metadata": {
        "colab": {
          "base_uri": "https://localhost:8080/"
        },
        "id": "h6fl80AqOC2I",
        "outputId": "6d289815-79b0-4949-fca0-6f2a573a1a3b"
      },
      "source": [
        "requests.drop(requests.iloc[:, [4,12,15,16,17,18,19,26,27,28,29]], axis=1, inplace=True)\n",
        "requests.info()"
      ],
      "execution_count": 9,
      "outputs": [
        {
          "output_type": "stream",
          "name": "stdout",
          "text": [
            "<class 'pandas.core.frame.DataFrame'>\n",
            "RangeIndex: 1631510 entries, 0 to 1631509\n",
            "Data columns (total 19 columns):\n",
            " #   Column                      Non-Null Count    Dtype  \n",
            "---  ------                      --------------    -----  \n",
            " 0   X                           1559084 non-null  float64\n",
            " 1   Y                           1559084 non-null  float64\n",
            " 2   OBJECTID                    1631510 non-null  int64  \n",
            " 3   DEPARTMENT                  1631510 non-null  object \n",
            " 4   REQUEST_NO                  1631510 non-null  int64  \n",
            " 5   FISCAL_YEAR                 1631510 non-null  int64  \n",
            " 6   FISCAL_MONTH                1631510 non-null  object \n",
            " 7   REQUEST_TYPE                1631510 non-null  object \n",
            " 8   RECEIVED_DATE               1631510 non-null  object \n",
            " 9   INTERNAL_FIELD_OBSERVATION  1631510 non-null  object \n",
            " 10  TITLE                       1631510 non-null  object \n",
            " 11  NEIGHBORHOOD_PROFILE_AREA   1559062 non-null  float64\n",
            " 12  BLOCK_NO                    1587157 non-null  float64\n",
            " 13  ZIP_CODE                    1586427 non-null  float64\n",
            " 14  FULL_ADDRESS                1624342 non-null  object \n",
            " 15  X_COORD                     1559084 non-null  float64\n",
            " 16  Y_COORD                     1559084 non-null  float64\n",
            " 17  LATITUDE                    1559077 non-null  float64\n",
            " 18  LONGITUDE                   1559077 non-null  float64\n",
            "dtypes: float64(9), int64(3), object(7)\n",
            "memory usage: 236.5+ MB\n"
          ]
        }
      ]
    },
    {
      "cell_type": "markdown",
      "metadata": {
        "id": "VEiZavejgi_q"
      },
      "source": [
        "## Survey Request Types and Departments"
      ]
    },
    {
      "cell_type": "code",
      "metadata": {
        "colab": {
          "base_uri": "https://localhost:8080/"
        },
        "id": "NhsCBqWzbm2M",
        "outputId": "d9567d6e-69ae-4fbf-bac7-dac21ca82292"
      },
      "source": [
        "print(\"Total unique request categories:\", requests['REQUEST_TYPE'].unique().shape[0], \"\\n\")\n",
        "print(\"Top 30 categories by volume:\\n\")\n",
        "print(requests['REQUEST_TYPE'].value_counts().head(30), \"\\n\")\n",
        "\n",
        "print(\"Top 30 departments by volume:\\n\")\n",
        "print(requests['DEPARTMENT'].value_counts().head(30))"
      ],
      "execution_count": 10,
      "outputs": [
        {
          "output_type": "stream",
          "name": "stdout",
          "text": [
            "Total unique request categories: 165 \n",
            "\n",
            "Top 30 categories by volume:\n",
            "\n",
            "NON_RECYCLABLE ITEMS         831737\n",
            "RECYCLABLE ITEMS             199452\n",
            "HNS HEALTH AND SANITATION     85031\n",
            "CART REPAIR-GARBAGE           36541\n",
            "MISSED RECYCLING              27471\n",
            "SW DOCUMENT GARBAGE           26729\n",
            "311 DOCUMENT                  25395\n",
            "CDOT STREETLIGHT REPAIR       19216\n",
            "SW DOCUMENT RECYCLING         17932\n",
            "DEAD ANIMAL COLLECTION        16727\n",
            "CART ISSUE/MISSING CART       15121\n",
            "TIRES                         13577\n",
            "SW DOCUMENT YARD WASTE        13186\n",
            "CART DELIVERY RECYCLING       11835\n",
            "COMPLAINT                     11788\n",
            "ZONING/COMPLAINT/ INSPECT     11767\n",
            "CART(S) DEL- NEW BUILD        11324\n",
            "CART ONLY DELIVER-GARB        11235\n",
            "CART REPAIR-RECYCLE            9933\n",
            "ZON GENERAL INFO  INQUIRY      9805\n",
            "CDOT POTHOLE REPAIR            9416\n",
            "HNS HOUSING                    8405\n",
            "CART PURCHASE 2ND-GARBAGE      8077\n",
            "MISSED GARBAGE                 7330\n",
            "CDOT STREET SIGN REP/REPL      7260\n",
            "PARKING ON LAWN WORKDAYS       6956\n",
            "STREET SWEEPING/FLUSHING       6824\n",
            "GRAFFITI                       6285\n",
            "EROSION                        5405\n",
            "DUMPING IN STREET/ROW          5401\n",
            "Name: REQUEST_TYPE, dtype: int64 \n",
            "\n",
            "Top 30 departments by volume:\n",
            "\n",
            "Solid Waste Services         1330678\n",
            "Housing and NBHD Serv         181627\n",
            "Transportation                 70953\n",
            "Storm Water Services           19094\n",
            "Police                          8810\n",
            "UT-Utilities                    7445\n",
            "Eng & Prop Mgmt/City            5266\n",
            "Mecklenburg County              1772\n",
            "NCDOT                           1474\n",
            "Finance/City                    1061\n",
            "Planning/City                    881\n",
            "Transit                          827\n",
            "City Manager                     701\n",
            "Fire/City                        195\n",
            "Shared Services                  190\n",
            "Mayor                            181\n",
            "Human Resources/City             156\n",
            "Aviation                         119\n",
            "Cnty Mngr./ Commissioners         36\n",
            "Strategy and Budget               17\n",
            "Health Dept/Cnty                  14\n",
            "City Clerk                         6\n",
            "City Attorney                      4\n",
            "Char Business Inclusion            2\n",
            "Procurement/City                   1\n",
            "Name: DEPARTMENT, dtype: int64\n"
          ]
        }
      ]
    },
    {
      "cell_type": "code",
      "metadata": {
        "colab": {
          "base_uri": "https://localhost:8080/"
        },
        "id": "9GwJjYyvbOMq",
        "outputId": "d16d2cb7-3c70-470a-e5b8-d431fafb58f1"
      },
      "source": [
        "print(\"Bottom 50 categories by volume:\\n\")\n",
        "print(requests['REQUEST_TYPE'].value_counts().tail(50).sort_values(ascending=True))"
      ],
      "execution_count": 14,
      "outputs": [
        {
          "output_type": "stream",
          "name": "stdout",
          "text": [
            "Bottom 50 categories by volume:\n",
            "\n",
            "BUS STOP-REMOVE TRASH CAN      1\n",
            "DISABILITY ACT                 1\n",
            "UT/MANDATORY                   1\n",
            "SW EXCESSIVE STORM-SW USE      1\n",
            "ON CALL - SWS SPEC SERV        1\n",
            "UT/LANDSCAPE                   1\n",
            "SWS MLTFMLY FIELD OBSERVE      1\n",
            "COMPLEX PROBLEM                1\n",
            "SW FIELD OBSERVED TO CI        1\n",
            "SW REMINDER BULKY-SW USE       2\n",
            "SW REMINDER GARB-SW USE        4\n",
            "NEW SVC BUSINESS GARBAGE       5\n",
            "BUS STOP-TRASH CAN MISC        6\n",
            "SW ESCALATION REQUEST          6\n",
            "CART REPAIR-BUSN GARB          6\n",
            "CART DELIVERY BUSN GARB        7\n",
            "OPINION                        7\n",
            "LAND DEVELOPMENT INQUIRY       8\n",
            "BULKY ITEM SCHEDULE            8\n",
            "BUS FACILITIES MAINT           8\n",
            "SMOKING VEHICLE REPORT         9\n",
            "UT RATE CHANGE                 9\n",
            "MUD IN THE STREET             10\n",
            "BUS STOP-FULL TRASH  CAN      10\n",
            "CART ONLY DELIVER-RECY        10\n",
            "PARK & REC REFUND/CANCEL      11\n",
            "DISABLED INSPECTION (SWS)     12\n",
            "SWS CART RETIRE REVIEW        12\n",
            "ZON APPEALS/CITATIONS INQ     14\n",
            "CWP REQUEST-HIGH PRIORITY     16\n",
            "TELL TRANSIT CONCERN          19\n",
            "DAMAGE/INVESTIGATE BULKY      22\n",
            "SW REMINDER RECY-SW USE       22\n",
            "CART PICKUP BUSN GARB         26\n",
            "CURRENT DISABLED SERVICE      37\n",
            "DAMAGE/INVESTIGATE YRD WS     44\n",
            "SWS CART DATA LOAD            51\n",
            "SWS CART SHIPMT REVIEW        60\n",
            "SUGGESTION/IDEA               60\n",
            "SPILLED BULKY ITEMS           91\n",
            "SW REMINDER YARD-SW USE       92\n",
            "PLANNING INQUIRY              96\n",
            "COVID 19-PRICE GOUGING       102\n",
            "MULTIPLEX REVIEW             113\n",
            "STW OTHER                    123\n",
            "ZON SUBDIVIDE PROP/DUPLX     128\n",
            "CDOT GUARD RAIL              133\n",
            "DAMAGE/INVESTIGATE RECY      138\n",
            "REQUEST FOR SPEAKER          140\n",
            "CDOT NEW CROSSWALK           151\n",
            "Name: REQUEST_TYPE, dtype: int64\n"
          ]
        }
      ]
    },
    {
      "cell_type": "markdown",
      "metadata": {
        "id": "Mihvr0t606Pg"
      },
      "source": [
        "### Display all 311 request types alphabetically"
      ]
    },
    {
      "cell_type": "code",
      "metadata": {
        "colab": {
          "base_uri": "https://localhost:8080/",
          "height": 565
        },
        "id": "wYLtMSZiXtap",
        "outputId": "bbbed28e-732c-4c0a-9aab-a15ec73e5797"
      },
      "source": [
        "# Set Display Options\n",
        "pd.set_option('display.max_rows', None)\n",
        "pd.set_option('display.max_columns', None)\n",
        "pd.set_option('display.width', 1000)\n",
        "\n",
        "# Subset requests by unique values, sorted\n",
        "A_CART = pd.Series(requests['REQUEST_TYPE'].unique()).sort_values()[0:25].reset_index()\n",
        "CDOT_COM = pd.Series(requests['REQUEST_TYPE'].unique()).sort_values()[25:50].reset_index()\n",
        "CON_INV = pd.Series(requests['REQUEST_TYPE'].unique()).sort_values()[50:75].reset_index()\n",
        "INV_PAR = pd.Series(requests['REQUEST_TYPE'].unique()).sort_values()[75:100].reset_index()\n",
        "PARK_SWDOC = pd.Series(requests['REQUEST_TYPE'].unique()).sort_values()[100:125].reset_index()\n",
        "SWESC_ZON = pd.Series(requests['REQUEST_TYPE'].unique()).sort_values()[125:150].reset_index()\n",
        "ZON_ZON = pd.Series(requests['REQUEST_TYPE'].unique()).sort_values()[150:165].reset_index()\n",
        "\n",
        "# Combine those 7 Series of 25 values each into 1 data frame for convenient side-by-side display \n",
        "categories = pd.concat([A_CART, CDOT_COM, CON_INV, INV_PAR, PARK_SWDOC, SWESC_ZON, ZON_ZON], axis=1)\n",
        "categories.drop(categories.iloc[:,[0,2,4,6,8,10,12]], axis=1, inplace=True) # drop the index columns\n",
        "categories.columns = ['A-CART', 'CDOT-COM', 'CON-INV', 'INV-PAR', 'PARK-SWDOC', 'SWESC-ZON', 'ZON-ZON']\n",
        "categories.reset_index(drop=True)\n",
        "categories = categories.style.set_properties(**{'text-align': 'left'}) # left justify for easy comparison of topics to determine possible bins / combinations\n",
        "categories"
      ],
      "execution_count": 16,
      "outputs": [
        {
          "output_type": "execute_result",
          "data": {
            "text/html": [
              "<style  type=\"text/css\" >\n",
              "#T_3e26864a_3363_11ec_b0eb_0242ac1c0002row0_col0,#T_3e26864a_3363_11ec_b0eb_0242ac1c0002row0_col1,#T_3e26864a_3363_11ec_b0eb_0242ac1c0002row0_col2,#T_3e26864a_3363_11ec_b0eb_0242ac1c0002row0_col3,#T_3e26864a_3363_11ec_b0eb_0242ac1c0002row0_col4,#T_3e26864a_3363_11ec_b0eb_0242ac1c0002row0_col5,#T_3e26864a_3363_11ec_b0eb_0242ac1c0002row0_col6,#T_3e26864a_3363_11ec_b0eb_0242ac1c0002row1_col0,#T_3e26864a_3363_11ec_b0eb_0242ac1c0002row1_col1,#T_3e26864a_3363_11ec_b0eb_0242ac1c0002row1_col2,#T_3e26864a_3363_11ec_b0eb_0242ac1c0002row1_col3,#T_3e26864a_3363_11ec_b0eb_0242ac1c0002row1_col4,#T_3e26864a_3363_11ec_b0eb_0242ac1c0002row1_col5,#T_3e26864a_3363_11ec_b0eb_0242ac1c0002row1_col6,#T_3e26864a_3363_11ec_b0eb_0242ac1c0002row2_col0,#T_3e26864a_3363_11ec_b0eb_0242ac1c0002row2_col1,#T_3e26864a_3363_11ec_b0eb_0242ac1c0002row2_col2,#T_3e26864a_3363_11ec_b0eb_0242ac1c0002row2_col3,#T_3e26864a_3363_11ec_b0eb_0242ac1c0002row2_col4,#T_3e26864a_3363_11ec_b0eb_0242ac1c0002row2_col5,#T_3e26864a_3363_11ec_b0eb_0242ac1c0002row2_col6,#T_3e26864a_3363_11ec_b0eb_0242ac1c0002row3_col0,#T_3e26864a_3363_11ec_b0eb_0242ac1c0002row3_col1,#T_3e26864a_3363_11ec_b0eb_0242ac1c0002row3_col2,#T_3e26864a_3363_11ec_b0eb_0242ac1c0002row3_col3,#T_3e26864a_3363_11ec_b0eb_0242ac1c0002row3_col4,#T_3e26864a_3363_11ec_b0eb_0242ac1c0002row3_col5,#T_3e26864a_3363_11ec_b0eb_0242ac1c0002row3_col6,#T_3e26864a_3363_11ec_b0eb_0242ac1c0002row4_col0,#T_3e26864a_3363_11ec_b0eb_0242ac1c0002row4_col1,#T_3e26864a_3363_11ec_b0eb_0242ac1c0002row4_col2,#T_3e26864a_3363_11ec_b0eb_0242ac1c0002row4_col3,#T_3e26864a_3363_11ec_b0eb_0242ac1c0002row4_col4,#T_3e26864a_3363_11ec_b0eb_0242ac1c0002row4_col5,#T_3e26864a_3363_11ec_b0eb_0242ac1c0002row4_col6,#T_3e26864a_3363_11ec_b0eb_0242ac1c0002row5_col0,#T_3e26864a_3363_11ec_b0eb_0242ac1c0002row5_col1,#T_3e26864a_3363_11ec_b0eb_0242ac1c0002row5_col2,#T_3e26864a_3363_11ec_b0eb_0242ac1c0002row5_col3,#T_3e26864a_3363_11ec_b0eb_0242ac1c0002row5_col4,#T_3e26864a_3363_11ec_b0eb_0242ac1c0002row5_col5,#T_3e26864a_3363_11ec_b0eb_0242ac1c0002row5_col6,#T_3e26864a_3363_11ec_b0eb_0242ac1c0002row6_col0,#T_3e26864a_3363_11ec_b0eb_0242ac1c0002row6_col1,#T_3e26864a_3363_11ec_b0eb_0242ac1c0002row6_col2,#T_3e26864a_3363_11ec_b0eb_0242ac1c0002row6_col3,#T_3e26864a_3363_11ec_b0eb_0242ac1c0002row6_col4,#T_3e26864a_3363_11ec_b0eb_0242ac1c0002row6_col5,#T_3e26864a_3363_11ec_b0eb_0242ac1c0002row6_col6,#T_3e26864a_3363_11ec_b0eb_0242ac1c0002row7_col0,#T_3e26864a_3363_11ec_b0eb_0242ac1c0002row7_col1,#T_3e26864a_3363_11ec_b0eb_0242ac1c0002row7_col2,#T_3e26864a_3363_11ec_b0eb_0242ac1c0002row7_col3,#T_3e26864a_3363_11ec_b0eb_0242ac1c0002row7_col4,#T_3e26864a_3363_11ec_b0eb_0242ac1c0002row7_col5,#T_3e26864a_3363_11ec_b0eb_0242ac1c0002row7_col6,#T_3e26864a_3363_11ec_b0eb_0242ac1c0002row8_col0,#T_3e26864a_3363_11ec_b0eb_0242ac1c0002row8_col1,#T_3e26864a_3363_11ec_b0eb_0242ac1c0002row8_col2,#T_3e26864a_3363_11ec_b0eb_0242ac1c0002row8_col3,#T_3e26864a_3363_11ec_b0eb_0242ac1c0002row8_col4,#T_3e26864a_3363_11ec_b0eb_0242ac1c0002row8_col5,#T_3e26864a_3363_11ec_b0eb_0242ac1c0002row8_col6,#T_3e26864a_3363_11ec_b0eb_0242ac1c0002row9_col0,#T_3e26864a_3363_11ec_b0eb_0242ac1c0002row9_col1,#T_3e26864a_3363_11ec_b0eb_0242ac1c0002row9_col2,#T_3e26864a_3363_11ec_b0eb_0242ac1c0002row9_col3,#T_3e26864a_3363_11ec_b0eb_0242ac1c0002row9_col4,#T_3e26864a_3363_11ec_b0eb_0242ac1c0002row9_col5,#T_3e26864a_3363_11ec_b0eb_0242ac1c0002row9_col6,#T_3e26864a_3363_11ec_b0eb_0242ac1c0002row10_col0,#T_3e26864a_3363_11ec_b0eb_0242ac1c0002row10_col1,#T_3e26864a_3363_11ec_b0eb_0242ac1c0002row10_col2,#T_3e26864a_3363_11ec_b0eb_0242ac1c0002row10_col3,#T_3e26864a_3363_11ec_b0eb_0242ac1c0002row10_col4,#T_3e26864a_3363_11ec_b0eb_0242ac1c0002row10_col5,#T_3e26864a_3363_11ec_b0eb_0242ac1c0002row10_col6,#T_3e26864a_3363_11ec_b0eb_0242ac1c0002row11_col0,#T_3e26864a_3363_11ec_b0eb_0242ac1c0002row11_col1,#T_3e26864a_3363_11ec_b0eb_0242ac1c0002row11_col2,#T_3e26864a_3363_11ec_b0eb_0242ac1c0002row11_col3,#T_3e26864a_3363_11ec_b0eb_0242ac1c0002row11_col4,#T_3e26864a_3363_11ec_b0eb_0242ac1c0002row11_col5,#T_3e26864a_3363_11ec_b0eb_0242ac1c0002row11_col6,#T_3e26864a_3363_11ec_b0eb_0242ac1c0002row12_col0,#T_3e26864a_3363_11ec_b0eb_0242ac1c0002row12_col1,#T_3e26864a_3363_11ec_b0eb_0242ac1c0002row12_col2,#T_3e26864a_3363_11ec_b0eb_0242ac1c0002row12_col3,#T_3e26864a_3363_11ec_b0eb_0242ac1c0002row12_col4,#T_3e26864a_3363_11ec_b0eb_0242ac1c0002row12_col5,#T_3e26864a_3363_11ec_b0eb_0242ac1c0002row12_col6,#T_3e26864a_3363_11ec_b0eb_0242ac1c0002row13_col0,#T_3e26864a_3363_11ec_b0eb_0242ac1c0002row13_col1,#T_3e26864a_3363_11ec_b0eb_0242ac1c0002row13_col2,#T_3e26864a_3363_11ec_b0eb_0242ac1c0002row13_col3,#T_3e26864a_3363_11ec_b0eb_0242ac1c0002row13_col4,#T_3e26864a_3363_11ec_b0eb_0242ac1c0002row13_col5,#T_3e26864a_3363_11ec_b0eb_0242ac1c0002row13_col6,#T_3e26864a_3363_11ec_b0eb_0242ac1c0002row14_col0,#T_3e26864a_3363_11ec_b0eb_0242ac1c0002row14_col1,#T_3e26864a_3363_11ec_b0eb_0242ac1c0002row14_col2,#T_3e26864a_3363_11ec_b0eb_0242ac1c0002row14_col3,#T_3e26864a_3363_11ec_b0eb_0242ac1c0002row14_col4,#T_3e26864a_3363_11ec_b0eb_0242ac1c0002row14_col5,#T_3e26864a_3363_11ec_b0eb_0242ac1c0002row14_col6,#T_3e26864a_3363_11ec_b0eb_0242ac1c0002row15_col0,#T_3e26864a_3363_11ec_b0eb_0242ac1c0002row15_col1,#T_3e26864a_3363_11ec_b0eb_0242ac1c0002row15_col2,#T_3e26864a_3363_11ec_b0eb_0242ac1c0002row15_col3,#T_3e26864a_3363_11ec_b0eb_0242ac1c0002row15_col4,#T_3e26864a_3363_11ec_b0eb_0242ac1c0002row15_col5,#T_3e26864a_3363_11ec_b0eb_0242ac1c0002row15_col6,#T_3e26864a_3363_11ec_b0eb_0242ac1c0002row16_col0,#T_3e26864a_3363_11ec_b0eb_0242ac1c0002row16_col1,#T_3e26864a_3363_11ec_b0eb_0242ac1c0002row16_col2,#T_3e26864a_3363_11ec_b0eb_0242ac1c0002row16_col3,#T_3e26864a_3363_11ec_b0eb_0242ac1c0002row16_col4,#T_3e26864a_3363_11ec_b0eb_0242ac1c0002row16_col5,#T_3e26864a_3363_11ec_b0eb_0242ac1c0002row16_col6,#T_3e26864a_3363_11ec_b0eb_0242ac1c0002row17_col0,#T_3e26864a_3363_11ec_b0eb_0242ac1c0002row17_col1,#T_3e26864a_3363_11ec_b0eb_0242ac1c0002row17_col2,#T_3e26864a_3363_11ec_b0eb_0242ac1c0002row17_col3,#T_3e26864a_3363_11ec_b0eb_0242ac1c0002row17_col4,#T_3e26864a_3363_11ec_b0eb_0242ac1c0002row17_col5,#T_3e26864a_3363_11ec_b0eb_0242ac1c0002row17_col6,#T_3e26864a_3363_11ec_b0eb_0242ac1c0002row18_col0,#T_3e26864a_3363_11ec_b0eb_0242ac1c0002row18_col1,#T_3e26864a_3363_11ec_b0eb_0242ac1c0002row18_col2,#T_3e26864a_3363_11ec_b0eb_0242ac1c0002row18_col3,#T_3e26864a_3363_11ec_b0eb_0242ac1c0002row18_col4,#T_3e26864a_3363_11ec_b0eb_0242ac1c0002row18_col5,#T_3e26864a_3363_11ec_b0eb_0242ac1c0002row18_col6,#T_3e26864a_3363_11ec_b0eb_0242ac1c0002row19_col0,#T_3e26864a_3363_11ec_b0eb_0242ac1c0002row19_col1,#T_3e26864a_3363_11ec_b0eb_0242ac1c0002row19_col2,#T_3e26864a_3363_11ec_b0eb_0242ac1c0002row19_col3,#T_3e26864a_3363_11ec_b0eb_0242ac1c0002row19_col4,#T_3e26864a_3363_11ec_b0eb_0242ac1c0002row19_col5,#T_3e26864a_3363_11ec_b0eb_0242ac1c0002row19_col6,#T_3e26864a_3363_11ec_b0eb_0242ac1c0002row20_col0,#T_3e26864a_3363_11ec_b0eb_0242ac1c0002row20_col1,#T_3e26864a_3363_11ec_b0eb_0242ac1c0002row20_col2,#T_3e26864a_3363_11ec_b0eb_0242ac1c0002row20_col3,#T_3e26864a_3363_11ec_b0eb_0242ac1c0002row20_col4,#T_3e26864a_3363_11ec_b0eb_0242ac1c0002row20_col5,#T_3e26864a_3363_11ec_b0eb_0242ac1c0002row20_col6,#T_3e26864a_3363_11ec_b0eb_0242ac1c0002row21_col0,#T_3e26864a_3363_11ec_b0eb_0242ac1c0002row21_col1,#T_3e26864a_3363_11ec_b0eb_0242ac1c0002row21_col2,#T_3e26864a_3363_11ec_b0eb_0242ac1c0002row21_col3,#T_3e26864a_3363_11ec_b0eb_0242ac1c0002row21_col4,#T_3e26864a_3363_11ec_b0eb_0242ac1c0002row21_col5,#T_3e26864a_3363_11ec_b0eb_0242ac1c0002row21_col6,#T_3e26864a_3363_11ec_b0eb_0242ac1c0002row22_col0,#T_3e26864a_3363_11ec_b0eb_0242ac1c0002row22_col1,#T_3e26864a_3363_11ec_b0eb_0242ac1c0002row22_col2,#T_3e26864a_3363_11ec_b0eb_0242ac1c0002row22_col3,#T_3e26864a_3363_11ec_b0eb_0242ac1c0002row22_col4,#T_3e26864a_3363_11ec_b0eb_0242ac1c0002row22_col5,#T_3e26864a_3363_11ec_b0eb_0242ac1c0002row22_col6,#T_3e26864a_3363_11ec_b0eb_0242ac1c0002row23_col0,#T_3e26864a_3363_11ec_b0eb_0242ac1c0002row23_col1,#T_3e26864a_3363_11ec_b0eb_0242ac1c0002row23_col2,#T_3e26864a_3363_11ec_b0eb_0242ac1c0002row23_col3,#T_3e26864a_3363_11ec_b0eb_0242ac1c0002row23_col4,#T_3e26864a_3363_11ec_b0eb_0242ac1c0002row23_col5,#T_3e26864a_3363_11ec_b0eb_0242ac1c0002row23_col6,#T_3e26864a_3363_11ec_b0eb_0242ac1c0002row24_col0,#T_3e26864a_3363_11ec_b0eb_0242ac1c0002row24_col1,#T_3e26864a_3363_11ec_b0eb_0242ac1c0002row24_col2,#T_3e26864a_3363_11ec_b0eb_0242ac1c0002row24_col3,#T_3e26864a_3363_11ec_b0eb_0242ac1c0002row24_col4,#T_3e26864a_3363_11ec_b0eb_0242ac1c0002row24_col5,#T_3e26864a_3363_11ec_b0eb_0242ac1c0002row24_col6{\n",
              "            text-align:  left;\n",
              "        }</style><table id=\"T_3e26864a_3363_11ec_b0eb_0242ac1c0002\" ><thead>    <tr>        <th class=\"blank level0\" ></th>        <th class=\"col_heading level0 col0\" >A-CART</th>        <th class=\"col_heading level0 col1\" >CDOT-COM</th>        <th class=\"col_heading level0 col2\" >CON-INV</th>        <th class=\"col_heading level0 col3\" >INV-PAR</th>        <th class=\"col_heading level0 col4\" >PARK-SWDOC</th>        <th class=\"col_heading level0 col5\" >SWESC-ZON</th>        <th class=\"col_heading level0 col6\" >ZON-ZON</th>    </tr></thead><tbody>\n",
              "                <tr>\n",
              "                        <th id=\"T_3e26864a_3363_11ec_b0eb_0242ac1c0002level0_row0\" class=\"row_heading level0 row0\" >0</th>\n",
              "                        <td id=\"T_3e26864a_3363_11ec_b0eb_0242ac1c0002row0_col0\" class=\"data row0 col0\" >3-1-1 ESCALATION REQUEST</td>\n",
              "                        <td id=\"T_3e26864a_3363_11ec_b0eb_0242ac1c0002row0_col1\" class=\"data row0 col1\" >CDOT BASKETBALL</td>\n",
              "                        <td id=\"T_3e26864a_3363_11ec_b0eb_0242ac1c0002row0_col2\" class=\"data row0 col2\" >CONTENT IMPROVEMENT PROG</td>\n",
              "                        <td id=\"T_3e26864a_3363_11ec_b0eb_0242ac1c0002row0_col3\" class=\"data row0 col3\" >INVESTIGATE/CONTACT GARB</td>\n",
              "                        <td id=\"T_3e26864a_3363_11ec_b0eb_0242ac1c0002row0_col4\" class=\"data row0 col4\" >PARKING ON LAWN OFFHOURS</td>\n",
              "                        <td id=\"T_3e26864a_3363_11ec_b0eb_0242ac1c0002row0_col5\" class=\"data row0 col5\" >SW ESCALATION REQUEST</td>\n",
              "                        <td id=\"T_3e26864a_3363_11ec_b0eb_0242ac1c0002row0_col6\" class=\"data row0 col6\" >ZON GENERAL INFO  INQUIRY</td>\n",
              "            </tr>\n",
              "            <tr>\n",
              "                        <th id=\"T_3e26864a_3363_11ec_b0eb_0242ac1c0002level0_row1\" class=\"row_heading level0 row1\" >1</th>\n",
              "                        <td id=\"T_3e26864a_3363_11ec_b0eb_0242ac1c0002row1_col0\" class=\"data row1 col0\" >311 DOCUMENT</td>\n",
              "                        <td id=\"T_3e26864a_3363_11ec_b0eb_0242ac1c0002row1_col1\" class=\"data row1 col1\" >CDOT CLEAN CATCH BASIN</td>\n",
              "                        <td id=\"T_3e26864a_3363_11ec_b0eb_0242ac1c0002row1_col2\" class=\"data row1 col2\" >COVID 19-PRICE GOUGING</td>\n",
              "                        <td id=\"T_3e26864a_3363_11ec_b0eb_0242ac1c0002row1_col3\" class=\"data row1 col3\" >INVESTIGATE/CONTACT RECY</td>\n",
              "                        <td id=\"T_3e26864a_3363_11ec_b0eb_0242ac1c0002row1_col4\" class=\"data row1 col4\" >PARKING ON LAWN WORKDAYS</td>\n",
              "                        <td id=\"T_3e26864a_3363_11ec_b0eb_0242ac1c0002row1_col5\" class=\"data row1 col5\" >SW EXCESSIVE STORM-SW USE</td>\n",
              "                        <td id=\"T_3e26864a_3363_11ec_b0eb_0242ac1c0002row1_col6\" class=\"data row1 col6\" >ZON HOLDS RELEASE REQUEST</td>\n",
              "            </tr>\n",
              "            <tr>\n",
              "                        <th id=\"T_3e26864a_3363_11ec_b0eb_0242ac1c0002level0_row2\" class=\"row_heading level0 row2\" >2</th>\n",
              "                        <td id=\"T_3e26864a_3363_11ec_b0eb_0242ac1c0002row2_col0\" class=\"data row2 col0\" >ADOPT-A PICKUP SWS</td>\n",
              "                        <td id=\"T_3e26864a_3363_11ec_b0eb_0242ac1c0002row2_col1\" class=\"data row2 col1\" >CDOT FLOODING</td>\n",
              "                        <td id=\"T_3e26864a_3363_11ec_b0eb_0242ac1c0002row2_col2\" class=\"data row2 col2\" >COVID 19-PUBLIC GATHERING</td>\n",
              "                        <td id=\"T_3e26864a_3363_11ec_b0eb_0242ac1c0002row2_col3\" class=\"data row2 col3\" >INVESTIGATE/CONTACT YD WT</td>\n",
              "                        <td id=\"T_3e26864a_3363_11ec_b0eb_0242ac1c0002row2_col4\" class=\"data row2 col4\" >PLANNING INQUIRY</td>\n",
              "                        <td id=\"T_3e26864a_3363_11ec_b0eb_0242ac1c0002row2_col5\" class=\"data row2 col5\" >SW FIELD OBSERVED TO CI</td>\n",
              "                        <td id=\"T_3e26864a_3363_11ec_b0eb_0242ac1c0002row2_col6\" class=\"data row2 col6\" >ZON RESIDENTIAL PERMITS</td>\n",
              "            </tr>\n",
              "            <tr>\n",
              "                        <th id=\"T_3e26864a_3363_11ec_b0eb_0242ac1c0002level0_row3\" class=\"row_heading level0 row3\" >3</th>\n",
              "                        <td id=\"T_3e26864a_3363_11ec_b0eb_0242ac1c0002row3_col0\" class=\"data row3 col0\" >ANIMAL FOUND REPORT</td>\n",
              "                        <td id=\"T_3e26864a_3363_11ec_b0eb_0242ac1c0002row3_col1\" class=\"data row3 col1\" >CDOT GRATE DAMAGE/REPLACE</td>\n",
              "                        <td id=\"T_3e26864a_3363_11ec_b0eb_0242ac1c0002row3_col2\" class=\"data row3 col2\" >COVID 19-STAY HOME VIOL</td>\n",
              "                        <td id=\"T_3e26864a_3363_11ec_b0eb_0242ac1c0002row3_col3\" class=\"data row3 col3\" >LAND DEVELOPMENT INQUIRY</td>\n",
              "                        <td id=\"T_3e26864a_3363_11ec_b0eb_0242ac1c0002row3_col4\" class=\"data row3 col4\" >POLLUTION</td>\n",
              "                        <td id=\"T_3e26864a_3363_11ec_b0eb_0242ac1c0002row3_col5\" class=\"data row3 col5\" >SW ONLY-DOOR HANGER LEFT</td>\n",
              "                        <td id=\"T_3e26864a_3363_11ec_b0eb_0242ac1c0002row3_col6\" class=\"data row3 col6\" >ZON SETBACKS</td>\n",
              "            </tr>\n",
              "            <tr>\n",
              "                        <th id=\"T_3e26864a_3363_11ec_b0eb_0242ac1c0002level0_row4\" class=\"row_heading level0 row4\" >4</th>\n",
              "                        <td id=\"T_3e26864a_3363_11ec_b0eb_0242ac1c0002row4_col0\" class=\"data row4 col0\" >BLOCKAGE</td>\n",
              "                        <td id=\"T_3e26864a_3363_11ec_b0eb_0242ac1c0002row4_col1\" class=\"data row4 col1\" >CDOT GUARD RAIL</td>\n",
              "                        <td id=\"T_3e26864a_3363_11ec_b0eb_0242ac1c0002row4_col2\" class=\"data row4 col2\" >CURRENT DISABLED SERVICE</td>\n",
              "                        <td id=\"T_3e26864a_3363_11ec_b0eb_0242ac1c0002row4_col3\" class=\"data row4 col3\" >LANDSCAPE LIMBS</td>\n",
              "                        <td id=\"T_3e26864a_3363_11ec_b0eb_0242ac1c0002row4_col4\" class=\"data row4 col4\" >RECYCLABLE ITEMS</td>\n",
              "                        <td id=\"T_3e26864a_3363_11ec_b0eb_0242ac1c0002row4_col5\" class=\"data row4 col5\" >SW REMINDER BULKY-SW USE</td>\n",
              "                        <td id=\"T_3e26864a_3363_11ec_b0eb_0242ac1c0002row4_col6\" class=\"data row4 col6\" >ZON SIGNS INQUIRY</td>\n",
              "            </tr>\n",
              "            <tr>\n",
              "                        <th id=\"T_3e26864a_3363_11ec_b0eb_0242ac1c0002level0_row5\" class=\"row_heading level0 row5\" >5</th>\n",
              "                        <td id=\"T_3e26864a_3363_11ec_b0eb_0242ac1c0002row5_col0\" class=\"data row5 col0\" >BOARDED UP STRUCTURE</td>\n",
              "                        <td id=\"T_3e26864a_3363_11ec_b0eb_0242ac1c0002row5_col1\" class=\"data row5 col1\" >CDOT MISCELLANEOUS</td>\n",
              "                        <td id=\"T_3e26864a_3363_11ec_b0eb_0242ac1c0002row5_col2\" class=\"data row5 col2\" >CWP REQUEST</td>\n",
              "                        <td id=\"T_3e26864a_3363_11ec_b0eb_0242ac1c0002row5_col3\" class=\"data row5 col3\" >LANDSCAPE TREES</td>\n",
              "                        <td id=\"T_3e26864a_3363_11ec_b0eb_0242ac1c0002row5_col4\" class=\"data row5 col4\" >REQUEST DISABILITY FORM</td>\n",
              "                        <td id=\"T_3e26864a_3363_11ec_b0eb_0242ac1c0002row5_col5\" class=\"data row5 col5\" >SW REMINDER GARB-SW USE</td>\n",
              "                        <td id=\"T_3e26864a_3363_11ec_b0eb_0242ac1c0002row5_col6\" class=\"data row5 col6\" >ZON STORAGE BLDG/ACC UNIT</td>\n",
              "            </tr>\n",
              "            <tr>\n",
              "                        <th id=\"T_3e26864a_3363_11ec_b0eb_0242ac1c0002level0_row6\" class=\"row_heading level0 row6\" >6</th>\n",
              "                        <td id=\"T_3e26864a_3363_11ec_b0eb_0242ac1c0002row6_col0\" class=\"data row6 col0\" >BULKY ITEM SCHEDULE</td>\n",
              "                        <td id=\"T_3e26864a_3363_11ec_b0eb_0242ac1c0002row6_col1\" class=\"data row6 col1\" >CDOT NEW CROSSWALK</td>\n",
              "                        <td id=\"T_3e26864a_3363_11ec_b0eb_0242ac1c0002row6_col2\" class=\"data row6 col2\" >CWP REQUEST-HIGH PRIORITY</td>\n",
              "                        <td id=\"T_3e26864a_3363_11ec_b0eb_0242ac1c0002row6_col3\" class=\"data row6 col3\" >LITTER/DEBRIS IN STREET</td>\n",
              "                        <td id=\"T_3e26864a_3363_11ec_b0eb_0242ac1c0002row6_col4\" class=\"data row6 col4\" >REQUEST FOR SPEAKER</td>\n",
              "                        <td id=\"T_3e26864a_3363_11ec_b0eb_0242ac1c0002row6_col5\" class=\"data row6 col5\" >SW REMINDER RECY-SW USE</td>\n",
              "                        <td id=\"T_3e26864a_3363_11ec_b0eb_0242ac1c0002row6_col6\" class=\"data row6 col6\" >ZON SUBDIVIDE PROP/DUPLX</td>\n",
              "            </tr>\n",
              "            <tr>\n",
              "                        <th id=\"T_3e26864a_3363_11ec_b0eb_0242ac1c0002level0_row7\" class=\"row_heading level0 row7\" >7</th>\n",
              "                        <td id=\"T_3e26864a_3363_11ec_b0eb_0242ac1c0002row7_col0\" class=\"data row7 col0\" >BUS FACILITIES MAINT</td>\n",
              "                        <td id=\"T_3e26864a_3363_11ec_b0eb_0242ac1c0002row7_col1\" class=\"data row7 col1\" >CDOT NEW SIDEWALK</td>\n",
              "                        <td id=\"T_3e26864a_3363_11ec_b0eb_0242ac1c0002row7_col2\" class=\"data row7 col2\" >DAMAGE/INVESTIGATE BULKY</td>\n",
              "                        <td id=\"T_3e26864a_3363_11ec_b0eb_0242ac1c0002row7_col3\" class=\"data row7 col3\" >MISSED BULKY ITEM</td>\n",
              "                        <td id=\"T_3e26864a_3363_11ec_b0eb_0242ac1c0002row7_col4\" class=\"data row7 col4\" >SIDEWALK OBSTR CONTAINERS</td>\n",
              "                        <td id=\"T_3e26864a_3363_11ec_b0eb_0242ac1c0002row7_col5\" class=\"data row7 col5\" >SW REMINDER YARD-SW USE</td>\n",
              "                        <td id=\"T_3e26864a_3363_11ec_b0eb_0242ac1c0002row7_col6\" class=\"data row7 col6\" >ZON SUPERVISORY COMPLAINT</td>\n",
              "            </tr>\n",
              "            <tr>\n",
              "                        <th id=\"T_3e26864a_3363_11ec_b0eb_0242ac1c0002level0_row8\" class=\"row_heading level0 row8\" >8</th>\n",
              "                        <td id=\"T_3e26864a_3363_11ec_b0eb_0242ac1c0002row8_col0\" class=\"data row8 col0\" >BUS STOP-FULL TRASH  CAN</td>\n",
              "                        <td id=\"T_3e26864a_3363_11ec_b0eb_0242ac1c0002row8_col1\" class=\"data row8 col1\" >CDOT NEW SIGN</td>\n",
              "                        <td id=\"T_3e26864a_3363_11ec_b0eb_0242ac1c0002row8_col2\" class=\"data row8 col2\" >DAMAGE/INVESTIGATE GARB</td>\n",
              "                        <td id=\"T_3e26864a_3363_11ec_b0eb_0242ac1c0002row8_col3\" class=\"data row8 col3\" >MISSED BUSINESS GARBAGE</td>\n",
              "                        <td id=\"T_3e26864a_3363_11ec_b0eb_0242ac1c0002row8_col4\" class=\"data row8 col4\" >SIDEWALK OBSTRUCT OTHER</td>\n",
              "                        <td id=\"T_3e26864a_3363_11ec_b0eb_0242ac1c0002row8_col5\" class=\"data row8 col5\" >SWAT-A-LITTERBUG</td>\n",
              "                        <td id=\"T_3e26864a_3363_11ec_b0eb_0242ac1c0002row8_col6\" class=\"data row8 col6\" >ZON VERIFICATION LETTERS</td>\n",
              "            </tr>\n",
              "            <tr>\n",
              "                        <th id=\"T_3e26864a_3363_11ec_b0eb_0242ac1c0002level0_row9\" class=\"row_heading level0 row9\" >9</th>\n",
              "                        <td id=\"T_3e26864a_3363_11ec_b0eb_0242ac1c0002row9_col0\" class=\"data row9 col0\" >BUS STOP-REMOVE TRASH CAN</td>\n",
              "                        <td id=\"T_3e26864a_3363_11ec_b0eb_0242ac1c0002row9_col1\" class=\"data row9 col1\" >CDOT NEW STREETLIGHTS</td>\n",
              "                        <td id=\"T_3e26864a_3363_11ec_b0eb_0242ac1c0002row9_col2\" class=\"data row9 col2\" >DAMAGE/INVESTIGATE RECY</td>\n",
              "                        <td id=\"T_3e26864a_3363_11ec_b0eb_0242ac1c0002row9_col3\" class=\"data row9 col3\" >MISSED GARBAGE</td>\n",
              "                        <td id=\"T_3e26864a_3363_11ec_b0eb_0242ac1c0002row9_col4\" class=\"data row9 col4\" >SIGNS (NOT FOR 311 USE)</td>\n",
              "                        <td id=\"T_3e26864a_3363_11ec_b0eb_0242ac1c0002row9_col5\" class=\"data row9 col5\" >SWS CART DATA LOAD</td>\n",
              "                        <td id=\"T_3e26864a_3363_11ec_b0eb_0242ac1c0002row9_col6\" class=\"data row9 col6\" >ZON WATERSHED/SWPE INQ</td>\n",
              "            </tr>\n",
              "            <tr>\n",
              "                        <th id=\"T_3e26864a_3363_11ec_b0eb_0242ac1c0002level0_row10\" class=\"row_heading level0 row10\" >10</th>\n",
              "                        <td id=\"T_3e26864a_3363_11ec_b0eb_0242ac1c0002row10_col0\" class=\"data row10 col0\" >BUS STOP-TRASH CAN MISC</td>\n",
              "                        <td id=\"T_3e26864a_3363_11ec_b0eb_0242ac1c0002row10_col1\" class=\"data row10 col1\" >CDOT NEW TRAFFIC SIGNAL</td>\n",
              "                        <td id=\"T_3e26864a_3363_11ec_b0eb_0242ac1c0002row10_col2\" class=\"data row10 col2\" >DAMAGE/INVESTIGATE YRD WS</td>\n",
              "                        <td id=\"T_3e26864a_3363_11ec_b0eb_0242ac1c0002row10_col3\" class=\"data row10 col3\" >MISSED RECYCLING</td>\n",
              "                        <td id=\"T_3e26864a_3363_11ec_b0eb_0242ac1c0002row10_col4\" class=\"data row10 col4\" >SMOKING VEHICLE REPORT</td>\n",
              "                        <td id=\"T_3e26864a_3363_11ec_b0eb_0242ac1c0002row10_col5\" class=\"data row10 col5\" >SWS CART RETIRE REVIEW</td>\n",
              "                        <td id=\"T_3e26864a_3363_11ec_b0eb_0242ac1c0002row10_col6\" class=\"data row10 col6\" >ZONGROUP/BOARDING HOMES</td>\n",
              "            </tr>\n",
              "            <tr>\n",
              "                        <th id=\"T_3e26864a_3363_11ec_b0eb_0242ac1c0002level0_row11\" class=\"row_heading level0 row11\" >11</th>\n",
              "                        <td id=\"T_3e26864a_3363_11ec_b0eb_0242ac1c0002row11_col0\" class=\"data row11 col0\" >CART DELIVERY BUSN GARB</td>\n",
              "                        <td id=\"T_3e26864a_3363_11ec_b0eb_0242ac1c0002row11_col1\" class=\"data row11 col1\" >CDOT POTHOLE REPAIR</td>\n",
              "                        <td id=\"T_3e26864a_3363_11ec_b0eb_0242ac1c0002row11_col2\" class=\"data row11 col2\" >DEAD ANIMAL COLLECTION</td>\n",
              "                        <td id=\"T_3e26864a_3363_11ec_b0eb_0242ac1c0002row11_col3\" class=\"data row11 col3\" >MISSED YARD WASTE</td>\n",
              "                        <td id=\"T_3e26864a_3363_11ec_b0eb_0242ac1c0002row11_col4\" class=\"data row11 col4\" >SPILLED BULKY ITEMS</td>\n",
              "                        <td id=\"T_3e26864a_3363_11ec_b0eb_0242ac1c0002row11_col5\" class=\"data row11 col5\" >SWS CART SHIPMT REVIEW</td>\n",
              "                        <td id=\"T_3e26864a_3363_11ec_b0eb_0242ac1c0002row11_col6\" class=\"data row11 col6\" >ZONHOME BUSINESS/APPROVAL</td>\n",
              "            </tr>\n",
              "            <tr>\n",
              "                        <th id=\"T_3e26864a_3363_11ec_b0eb_0242ac1c0002level0_row12\" class=\"row_heading level0 row12\" >12</th>\n",
              "                        <td id=\"T_3e26864a_3363_11ec_b0eb_0242ac1c0002row12_col0\" class=\"data row12 col0\" >CART DELIVERY RECYCLING</td>\n",
              "                        <td id=\"T_3e26864a_3363_11ec_b0eb_0242ac1c0002row12_col1\" class=\"data row12 col1\" >CDOT RESURFACING ISSUES</td>\n",
              "                        <td id=\"T_3e26864a_3363_11ec_b0eb_0242ac1c0002row12_col2\" class=\"data row12 col2\" >DISABILITY ACT</td>\n",
              "                        <td id=\"T_3e26864a_3363_11ec_b0eb_0242ac1c0002row12_col3\" class=\"data row12 col3\" >MOBILE APP FEEDBACK</td>\n",
              "                        <td id=\"T_3e26864a_3363_11ec_b0eb_0242ac1c0002row12_col4\" class=\"data row12 col4\" >SPILLED GARBAGE</td>\n",
              "                        <td id=\"T_3e26864a_3363_11ec_b0eb_0242ac1c0002row12_col5\" class=\"data row12 col5\" >SWS LIAISON</td>\n",
              "                        <td id=\"T_3e26864a_3363_11ec_b0eb_0242ac1c0002row12_col6\" class=\"data row12 col6\" >ZONING/COMPLAINT/ INSPECT</td>\n",
              "            </tr>\n",
              "            <tr>\n",
              "                        <th id=\"T_3e26864a_3363_11ec_b0eb_0242ac1c0002level0_row13\" class=\"row_heading level0 row13\" >13</th>\n",
              "                        <td id=\"T_3e26864a_3363_11ec_b0eb_0242ac1c0002row13_col0\" class=\"data row13 col0\" >CART ISSUE/MISSING CART</td>\n",
              "                        <td id=\"T_3e26864a_3363_11ec_b0eb_0242ac1c0002row13_col1\" class=\"data row13 col1\" >CDOT ROAD QUALITY</td>\n",
              "                        <td id=\"T_3e26864a_3363_11ec_b0eb_0242ac1c0002row13_col2\" class=\"data row13 col2\" >DISABILITY CANCEL/ CHANGE</td>\n",
              "                        <td id=\"T_3e26864a_3363_11ec_b0eb_0242ac1c0002row13_col3\" class=\"data row13 col3\" >MUD IN STREET-CONSTRUCTIO</td>\n",
              "                        <td id=\"T_3e26864a_3363_11ec_b0eb_0242ac1c0002row13_col4\" class=\"data row13 col4\" >SPILLED RECYCLING</td>\n",
              "                        <td id=\"T_3e26864a_3363_11ec_b0eb_0242ac1c0002row13_col5\" class=\"data row13 col5\" >SWS MLTFMLY FIELD OBSERVE</td>\n",
              "                        <td id=\"T_3e26864a_3363_11ec_b0eb_0242ac1c0002row13_col6\" class=\"data row13 col6\" >ZONMOBILE FOOD/TENT SALES</td>\n",
              "            </tr>\n",
              "            <tr>\n",
              "                        <th id=\"T_3e26864a_3363_11ec_b0eb_0242ac1c0002level0_row14\" class=\"row_heading level0 row14\" >14</th>\n",
              "                        <td id=\"T_3e26864a_3363_11ec_b0eb_0242ac1c0002row14_col0\" class=\"data row14 col0\" >CART ONLY DELIVER-GARB</td>\n",
              "                        <td id=\"T_3e26864a_3363_11ec_b0eb_0242ac1c0002row14_col1\" class=\"data row14 col1\" >CDOT SIDEWALK REPAIR</td>\n",
              "                        <td id=\"T_3e26864a_3363_11ec_b0eb_0242ac1c0002row14_col2\" class=\"data row14 col2\" >DISABLED INSPECTION (SWS)</td>\n",
              "                        <td id=\"T_3e26864a_3363_11ec_b0eb_0242ac1c0002row14_col3\" class=\"data row14 col3\" >MUD IN THE STREET</td>\n",
              "                        <td id=\"T_3e26864a_3363_11ec_b0eb_0242ac1c0002row14_col4\" class=\"data row14 col4\" >SPILLED YARD WASTE</td>\n",
              "                        <td id=\"T_3e26864a_3363_11ec_b0eb_0242ac1c0002row14_col5\" class=\"data row14 col5\" >TAX BILL INQUIRY</td>\n",
              "                        <td id=\"T_3e26864a_3363_11ec_b0eb_0242ac1c0002row14_col6\" class=\"data row14 col6\" >ZONSETBACKS/STORAGE BUILD</td>\n",
              "            </tr>\n",
              "            <tr>\n",
              "                        <th id=\"T_3e26864a_3363_11ec_b0eb_0242ac1c0002level0_row15\" class=\"row_heading level0 row15\" >15</th>\n",
              "                        <td id=\"T_3e26864a_3363_11ec_b0eb_0242ac1c0002row15_col0\" class=\"data row15 col0\" >CART ONLY DELIVER-RECY</td>\n",
              "                        <td id=\"T_3e26864a_3363_11ec_b0eb_0242ac1c0002row15_col1\" class=\"data row15 col1\" >CDOT SIGHT OBSTRUCTION</td>\n",
              "                        <td id=\"T_3e26864a_3363_11ec_b0eb_0242ac1c0002row15_col2\" class=\"data row15 col2\" >DUMPING IN STREET/ROW</td>\n",
              "                        <td id=\"T_3e26864a_3363_11ec_b0eb_0242ac1c0002row15_col3\" class=\"data row15 col3\" >MULTIPLEX REVIEW</td>\n",
              "                        <td id=\"T_3e26864a_3363_11ec_b0eb_0242ac1c0002row15_col4\" class=\"data row15 col4\" >STREET MAINTENANCE - SNOW</td>\n",
              "                        <td id=\"T_3e26864a_3363_11ec_b0eb_0242ac1c0002row15_col5\" class=\"data row15 col5\" >TELL TRANSIT CONCERN</td>\n",
              "                        <td id=\"T_3e26864a_3363_11ec_b0eb_0242ac1c0002row15_col6\" class=\"data row15 col6\" >nan</td>\n",
              "            </tr>\n",
              "            <tr>\n",
              "                        <th id=\"T_3e26864a_3363_11ec_b0eb_0242ac1c0002level0_row16\" class=\"row_heading level0 row16\" >16</th>\n",
              "                        <td id=\"T_3e26864a_3363_11ec_b0eb_0242ac1c0002row16_col0\" class=\"data row16 col0\" >CART PICKUP BUSN GARB</td>\n",
              "                        <td id=\"T_3e26864a_3363_11ec_b0eb_0242ac1c0002row16_col1\" class=\"data row16 col1\" >CDOT STREET SIGN REP/REPL</td>\n",
              "                        <td id=\"T_3e26864a_3363_11ec_b0eb_0242ac1c0002row16_col2\" class=\"data row16 col2\" >EROSION</td>\n",
              "                        <td id=\"T_3e26864a_3363_11ec_b0eb_0242ac1c0002row16_col3\" class=\"data row16 col3\" >NCDOT POTHOLE REQUEST</td>\n",
              "                        <td id=\"T_3e26864a_3363_11ec_b0eb_0242ac1c0002row16_col4\" class=\"data row16 col4\" >STREET SWEEPING/FLUSHING</td>\n",
              "                        <td id=\"T_3e26864a_3363_11ec_b0eb_0242ac1c0002row16_col5\" class=\"data row16 col5\" >TIRES</td>\n",
              "                        <td id=\"T_3e26864a_3363_11ec_b0eb_0242ac1c0002row16_col6\" class=\"data row16 col6\" >nan</td>\n",
              "            </tr>\n",
              "            <tr>\n",
              "                        <th id=\"T_3e26864a_3363_11ec_b0eb_0242ac1c0002level0_row17\" class=\"row_heading level0 row17\" >17</th>\n",
              "                        <td id=\"T_3e26864a_3363_11ec_b0eb_0242ac1c0002row17_col0\" class=\"data row17 col0\" >CART PICKUP- GARBAGE</td>\n",
              "                        <td id=\"T_3e26864a_3363_11ec_b0eb_0242ac1c0002row17_col1\" class=\"data row17 col1\" >CDOT STREETLIGHT REPAIR</td>\n",
              "                        <td id=\"T_3e26864a_3363_11ec_b0eb_0242ac1c0002row17_col2\" class=\"data row17 col2\" >FIELD OBSERVED PROBLEM</td>\n",
              "                        <td id=\"T_3e26864a_3363_11ec_b0eb_0242ac1c0002row17_col3\" class=\"data row17 col3\" >NEW SERVICE/CHNG MLTIPLX</td>\n",
              "                        <td id=\"T_3e26864a_3363_11ec_b0eb_0242ac1c0002row17_col4\" class=\"data row17 col4\" >STW CNTY WATER QUALITY</td>\n",
              "                        <td id=\"T_3e26864a_3363_11ec_b0eb_0242ac1c0002row17_col5\" class=\"data row17 col5\" >UT RATE CHANGE</td>\n",
              "                        <td id=\"T_3e26864a_3363_11ec_b0eb_0242ac1c0002row17_col6\" class=\"data row17 col6\" >nan</td>\n",
              "            </tr>\n",
              "            <tr>\n",
              "                        <th id=\"T_3e26864a_3363_11ec_b0eb_0242ac1c0002level0_row18\" class=\"row_heading level0 row18\" >18</th>\n",
              "                        <td id=\"T_3e26864a_3363_11ec_b0eb_0242ac1c0002row18_col0\" class=\"data row18 col0\" >CART PICKUP-RECYCLE</td>\n",
              "                        <td id=\"T_3e26864a_3363_11ec_b0eb_0242ac1c0002row18_col1\" class=\"data row18 col1\" >CDOT TRAF SIGNAL REPAIR</td>\n",
              "                        <td id=\"T_3e26864a_3363_11ec_b0eb_0242ac1c0002row18_col2\" class=\"data row18 col2\" >FLOODING</td>\n",
              "                        <td id=\"T_3e26864a_3363_11ec_b0eb_0242ac1c0002row18_col3\" class=\"data row18 col3\" >NEW SVC BUSINESS GARBAGE</td>\n",
              "                        <td id=\"T_3e26864a_3363_11ec_b0eb_0242ac1c0002row18_col4\" class=\"data row18 col4\" >STW GENERAL INQUIRY</td>\n",
              "                        <td id=\"T_3e26864a_3363_11ec_b0eb_0242ac1c0002row18_col5\" class=\"data row18 col5\" >UT/LANDSCAPE</td>\n",
              "                        <td id=\"T_3e26864a_3363_11ec_b0eb_0242ac1c0002row18_col6\" class=\"data row18 col6\" >nan</td>\n",
              "            </tr>\n",
              "            <tr>\n",
              "                        <th id=\"T_3e26864a_3363_11ec_b0eb_0242ac1c0002level0_row19\" class=\"row_heading level0 row19\" >19</th>\n",
              "                        <td id=\"T_3e26864a_3363_11ec_b0eb_0242ac1c0002row19_col0\" class=\"data row19 col0\" >CART PURCHASE 2ND-GARBAGE</td>\n",
              "                        <td id=\"T_3e26864a_3363_11ec_b0eb_0242ac1c0002row19_col1\" class=\"data row19 col1\" >CDOT TRAF SIGNAL TIMING</td>\n",
              "                        <td id=\"T_3e26864a_3363_11ec_b0eb_0242ac1c0002row19_col2\" class=\"data row19 col2\" >GRAFFITI</td>\n",
              "                        <td id=\"T_3e26864a_3363_11ec_b0eb_0242ac1c0002row19_col3\" class=\"data row19 col3\" >NON-RESIDEN BUILDING CODE</td>\n",
              "                        <td id=\"T_3e26864a_3363_11ec_b0eb_0242ac1c0002row19_col4\" class=\"data row19 col4\" >STW OTHER</td>\n",
              "                        <td id=\"T_3e26864a_3363_11ec_b0eb_0242ac1c0002row19_col5\" class=\"data row19 col5\" >UT/MANDATORY</td>\n",
              "                        <td id=\"T_3e26864a_3363_11ec_b0eb_0242ac1c0002row19_col6\" class=\"data row19 col6\" >nan</td>\n",
              "            </tr>\n",
              "            <tr>\n",
              "                        <th id=\"T_3e26864a_3363_11ec_b0eb_0242ac1c0002level0_row20\" class=\"row_heading level0 row20\" >20</th>\n",
              "                        <td id=\"T_3e26864a_3363_11ec_b0eb_0242ac1c0002row20_col0\" class=\"data row20 col0\" >CART PURCHASE 2ND-RECYCLE</td>\n",
              "                        <td id=\"T_3e26864a_3363_11ec_b0eb_0242ac1c0002row20_col1\" class=\"data row20 col1\" >CDOT TRAFFIC CALMING</td>\n",
              "                        <td id=\"T_3e26864a_3363_11ec_b0eb_0242ac1c0002row20_col2\" class=\"data row20 col2\" >HNS HEALTH AND SANITATION</td>\n",
              "                        <td id=\"T_3e26864a_3363_11ec_b0eb_0242ac1c0002row20_col3\" class=\"data row20 col3\" >NON_RECYCLABLE ITEMS</td>\n",
              "                        <td id=\"T_3e26864a_3363_11ec_b0eb_0242ac1c0002row20_col4\" class=\"data row20 col4\" >SUGGESTION/IDEA</td>\n",
              "                        <td id=\"T_3e26864a_3363_11ec_b0eb_0242ac1c0002row20_col5\" class=\"data row20 col5\" >UTILITY VERIFICATION LTR</td>\n",
              "                        <td id=\"T_3e26864a_3363_11ec_b0eb_0242ac1c0002row20_col6\" class=\"data row20 col6\" >nan</td>\n",
              "            </tr>\n",
              "            <tr>\n",
              "                        <th id=\"T_3e26864a_3363_11ec_b0eb_0242ac1c0002level0_row21\" class=\"row_heading level0 row21\" >21</th>\n",
              "                        <td id=\"T_3e26864a_3363_11ec_b0eb_0242ac1c0002row21_col0\" class=\"data row21 col0\" >CART REPAIR-BUSN GARB</td>\n",
              "                        <td id=\"T_3e26864a_3363_11ec_b0eb_0242ac1c0002row21_col1\" class=\"data row21 col1\" >CITIZEN FEEDBACK</td>\n",
              "                        <td id=\"T_3e26864a_3363_11ec_b0eb_0242ac1c0002row21_col2\" class=\"data row21 col2\" >HNS HOUSING</td>\n",
              "                        <td id=\"T_3e26864a_3363_11ec_b0eb_0242ac1c0002row21_col3\" class=\"data row21 col3\" >ON CALL - SWS SPEC SERV</td>\n",
              "                        <td id=\"T_3e26864a_3363_11ec_b0eb_0242ac1c0002row21_col4\" class=\"data row21 col4\" >SW DOCUMENT BULKY ITEMS</td>\n",
              "                        <td id=\"T_3e26864a_3363_11ec_b0eb_0242ac1c0002row21_col5\" class=\"data row21 col5\" >ZON ABC PERMITS INQUIRY</td>\n",
              "                        <td id=\"T_3e26864a_3363_11ec_b0eb_0242ac1c0002row21_col6\" class=\"data row21 col6\" >nan</td>\n",
              "            </tr>\n",
              "            <tr>\n",
              "                        <th id=\"T_3e26864a_3363_11ec_b0eb_0242ac1c0002level0_row22\" class=\"row_heading level0 row22\" >22</th>\n",
              "                        <td id=\"T_3e26864a_3363_11ec_b0eb_0242ac1c0002row22_col0\" class=\"data row22 col0\" >CART REPAIR-GARBAGE</td>\n",
              "                        <td id=\"T_3e26864a_3363_11ec_b0eb_0242ac1c0002row22_col1\" class=\"data row22 col1\" >COMPLAINT</td>\n",
              "                        <td id=\"T_3e26864a_3363_11ec_b0eb_0242ac1c0002row22_col2\" class=\"data row22 col2\" >INQUIRY</td>\n",
              "                        <td id=\"T_3e26864a_3363_11ec_b0eb_0242ac1c0002row22_col3\" class=\"data row22 col3\" >OPINION</td>\n",
              "                        <td id=\"T_3e26864a_3363_11ec_b0eb_0242ac1c0002row22_col4\" class=\"data row22 col4\" >SW DOCUMENT GARBAGE</td>\n",
              "                        <td id=\"T_3e26864a_3363_11ec_b0eb_0242ac1c0002row22_col5\" class=\"data row22 col5\" >ZON APPEALS/CITATIONS INQ</td>\n",
              "                        <td id=\"T_3e26864a_3363_11ec_b0eb_0242ac1c0002row22_col6\" class=\"data row22 col6\" >nan</td>\n",
              "            </tr>\n",
              "            <tr>\n",
              "                        <th id=\"T_3e26864a_3363_11ec_b0eb_0242ac1c0002level0_row23\" class=\"row_heading level0 row23\" >23</th>\n",
              "                        <td id=\"T_3e26864a_3363_11ec_b0eb_0242ac1c0002row23_col0\" class=\"data row23 col0\" >CART REPAIR-RECYCLE</td>\n",
              "                        <td id=\"T_3e26864a_3363_11ec_b0eb_0242ac1c0002row23_col1\" class=\"data row23 col1\" >COMPLEX PROBLEM</td>\n",
              "                        <td id=\"T_3e26864a_3363_11ec_b0eb_0242ac1c0002row23_col2\" class=\"data row23 col2\" >INVALID/NEW SW ADDRESS</td>\n",
              "                        <td id=\"T_3e26864a_3363_11ec_b0eb_0242ac1c0002row23_col3\" class=\"data row23 col3\" >PARK & REC REFUND/CANCEL</td>\n",
              "                        <td id=\"T_3e26864a_3363_11ec_b0eb_0242ac1c0002row23_col4\" class=\"data row23 col4\" >SW DOCUMENT RECYCLING</td>\n",
              "                        <td id=\"T_3e26864a_3363_11ec_b0eb_0242ac1c0002row23_col5\" class=\"data row23 col5\" >ZON DAYCARE/CHILDCARE INQ</td>\n",
              "                        <td id=\"T_3e26864a_3363_11ec_b0eb_0242ac1c0002row23_col6\" class=\"data row23 col6\" >nan</td>\n",
              "            </tr>\n",
              "            <tr>\n",
              "                        <th id=\"T_3e26864a_3363_11ec_b0eb_0242ac1c0002level0_row24\" class=\"row_heading level0 row24\" >24</th>\n",
              "                        <td id=\"T_3e26864a_3363_11ec_b0eb_0242ac1c0002row24_col0\" class=\"data row24 col0\" >CART(S) DEL- NEW BUILD</td>\n",
              "                        <td id=\"T_3e26864a_3363_11ec_b0eb_0242ac1c0002row24_col1\" class=\"data row24 col1\" >COMPLIMENT/THANKS</td>\n",
              "                        <td id=\"T_3e26864a_3363_11ec_b0eb_0242ac1c0002row24_col2\" class=\"data row24 col2\" >INVESTIGATE/CONTACT BULKY</td>\n",
              "                        <td id=\"T_3e26864a_3363_11ec_b0eb_0242ac1c0002row24_col3\" class=\"data row24 col3\" >PARK & REC SVC REQUEST</td>\n",
              "                        <td id=\"T_3e26864a_3363_11ec_b0eb_0242ac1c0002row24_col4\" class=\"data row24 col4\" >SW DOCUMENT YARD WASTE</td>\n",
              "                        <td id=\"T_3e26864a_3363_11ec_b0eb_0242ac1c0002row24_col5\" class=\"data row24 col5\" >ZON FENCE/OPEN SPACE INQ</td>\n",
              "                        <td id=\"T_3e26864a_3363_11ec_b0eb_0242ac1c0002row24_col6\" class=\"data row24 col6\" >nan</td>\n",
              "            </tr>\n",
              "    </tbody></table>"
            ],
            "text/plain": [
              "<pandas.io.formats.style.Styler at 0x7f76b5c61a50>"
            ]
          },
          "metadata": {},
          "execution_count": 16
        }
      ]
    },
    {
      "cell_type": "markdown",
      "metadata": {
        "id": "Oo0COpR41zXc"
      },
      "source": [
        "## Decisions on selection and binning:\n",
        "\n",
        "- We will want to retain the option to use all categories and compare that to the performance of our analyses when using self-determined bins.\n",
        "\n",
        "- Binning roughly around categories--for example all CART-related requests into one category, cleanliness-related requests such as trash in the street and pollution into one category--we can encode a new column with only 40 categories.\n",
        "\n",
        "- After binning, any categories with fewer than 30 records are dropped.\n",
        "\n",
        "- We also eliminate several Solid Waste Services administrative categories, such as data loads, as well as three COVID-19-related categories, which we choose to exclude from this analysis.\n"
      ]
    },
    {
      "cell_type": "code",
      "metadata": {
        "id": "YbU2aHfCnvJg"
      },
      "source": [
        ""
      ],
      "execution_count": null,
      "outputs": []
    },
    {
      "cell_type": "markdown",
      "metadata": {
        "id": "Y8COt6eX0Si8"
      },
      "source": [
        "## Customers with the highest number of requests"
      ]
    },
    {
      "cell_type": "code",
      "metadata": {
        "colab": {
          "base_uri": "https://localhost:8080/",
          "height": 299
        },
        "id": "4cS4GDqa_50u",
        "outputId": "866f7ee2-10ae-4e75-9003-71cd6d347c4e"
      },
      "source": [
        "# Using address as \"customer\"\n",
        "address_ranks = requests['FULL_ADDRESS'].value_counts().head(20)\n",
        "\n",
        "x_pos = [i for i, _ in enumerate(address_ranks[[0]])]\n",
        "x = range(20)\n",
        "y = address_ranks\n",
        "plt.bar(x, y, color='green')\n",
        "plt.xlabel(\"Top 20 addresses\")\n",
        "plt.ylabel(\"Number of Requests\")\n",
        "plt.title(\"Top 20 addresses' request volume\")\n",
        "\n",
        "plt.xticks(x_pos, x)\n",
        "\n",
        "plt.show()"
      ],
      "execution_count": 40,
      "outputs": [
        {
          "output_type": "display_data",
          "data": {
            "image/png": "[encoded data removed]",
            "text/plain": [
              "<Figure size 432x288 with 1 Axes>"
            ]
          },
          "metadata": {
            "needs_background": "light"
          }
        }
      ]
    },
    {
      "cell_type": "code",
      "metadata": {
        "colab": {
          "base_uri": "https://localhost:8080/",
          "height": 669
        },
        "id": "vZWeJjI41iG4",
        "outputId": "9d8fb688-aebe-4d7a-e526-067acad57b4e"
      },
      "source": [
        "# Combining LATTITUDE and LONGITUDE to create unique location IDs accurate to 1.11m to define as \"customer\"\n",
        "requests['LATLON'] = requests[\"LATITUDE\"].astype(str) + requests[\"LONGITUDE\"].astype(str)\n",
        "# Rank customers by frequency of requests\n",
        "customer_ranks = requests['LATLON'].value_counts().to_frame().reset_index()\n",
        "customer_ranks.columns = ['LATLON', 'Number of Calls'] # change column names\n",
        "top_20 = customer_ranks[0:20]\n",
        "top_20"
      ],
      "execution_count": null,
      "outputs": [
        {
          "output_type": "execute_result",
          "data": {
            "text/html": [
              "<div>\n",
              "<style scoped>\n",
              "    .dataframe tbody tr th:only-of-type {\n",
              "        vertical-align: middle;\n",
              "    }\n",
              "\n",
              "    .dataframe tbody tr th {\n",
              "        vertical-align: top;\n",
              "    }\n",
              "\n",
              "    .dataframe thead th {\n",
              "        text-align: right;\n",
              "    }\n",
              "</style>\n",
              "<table border=\"1\" class=\"dataframe\">\n",
              "  <thead>\n",
              "    <tr style=\"text-align: right;\">\n",
              "      <th></th>\n",
              "      <th>LATLON</th>\n",
              "      <th>Number of Calls</th>\n",
              "    </tr>\n",
              "  </thead>\n",
              "  <tbody>\n",
              "    <tr>\n",
              "      <th>0</th>\n",
              "      <td>nannan</td>\n",
              "      <td>72433</td>\n",
              "    </tr>\n",
              "    <tr>\n",
              "      <th>1</th>\n",
              "      <td>35.26671306-80.76104322</td>\n",
              "      <td>758</td>\n",
              "    </tr>\n",
              "    <tr>\n",
              "      <th>2</th>\n",
              "      <td>35.12039601-80.86962228</td>\n",
              "      <td>563</td>\n",
              "    </tr>\n",
              "    <tr>\n",
              "      <th>3</th>\n",
              "      <td>35.23909427-80.92592474</td>\n",
              "      <td>356</td>\n",
              "    </tr>\n",
              "    <tr>\n",
              "      <th>4</th>\n",
              "      <td>35.25927032-80.90078488</td>\n",
              "      <td>344</td>\n",
              "    </tr>\n",
              "    <tr>\n",
              "      <th>5</th>\n",
              "      <td>35.26391476-80.73330321</td>\n",
              "      <td>320</td>\n",
              "    </tr>\n",
              "    <tr>\n",
              "      <th>6</th>\n",
              "      <td>35.26371343-80.88607182</td>\n",
              "      <td>320</td>\n",
              "    </tr>\n",
              "    <tr>\n",
              "      <th>7</th>\n",
              "      <td>35.14960744-80.88478039</td>\n",
              "      <td>312</td>\n",
              "    </tr>\n",
              "    <tr>\n",
              "      <th>8</th>\n",
              "      <td>35.22968575-80.74488978</td>\n",
              "      <td>309</td>\n",
              "    </tr>\n",
              "    <tr>\n",
              "      <th>9</th>\n",
              "      <td>35.19929285-80.76009595</td>\n",
              "      <td>306</td>\n",
              "    </tr>\n",
              "    <tr>\n",
              "      <th>10</th>\n",
              "      <td>35.11972226-80.87886182</td>\n",
              "      <td>305</td>\n",
              "    </tr>\n",
              "    <tr>\n",
              "      <th>11</th>\n",
              "      <td>35.21540996-80.88513088</td>\n",
              "      <td>304</td>\n",
              "    </tr>\n",
              "    <tr>\n",
              "      <th>12</th>\n",
              "      <td>35.24419938-80.87755329</td>\n",
              "      <td>302</td>\n",
              "    </tr>\n",
              "    <tr>\n",
              "      <th>13</th>\n",
              "      <td>35.26182874-80.95934913</td>\n",
              "      <td>302</td>\n",
              "    </tr>\n",
              "    <tr>\n",
              "      <th>14</th>\n",
              "      <td>35.20147809-80.73235657</td>\n",
              "      <td>301</td>\n",
              "    </tr>\n",
              "    <tr>\n",
              "      <th>15</th>\n",
              "      <td>35.20835397-80.74324758</td>\n",
              "      <td>298</td>\n",
              "    </tr>\n",
              "    <tr>\n",
              "      <th>16</th>\n",
              "      <td>35.12797492-80.83035733</td>\n",
              "      <td>298</td>\n",
              "    </tr>\n",
              "    <tr>\n",
              "      <th>17</th>\n",
              "      <td>35.20553221-80.72904435</td>\n",
              "      <td>297</td>\n",
              "    </tr>\n",
              "    <tr>\n",
              "      <th>18</th>\n",
              "      <td>35.24465259-80.75219358</td>\n",
              "      <td>293</td>\n",
              "    </tr>\n",
              "    <tr>\n",
              "      <th>19</th>\n",
              "      <td>35.24896458-80.88815565</td>\n",
              "      <td>293</td>\n",
              "    </tr>\n",
              "  </tbody>\n",
              "</table>\n",
              "</div>"
            ],
            "text/plain": [
              "                     LATLON  Number of Calls\n",
              "0                    nannan            72433\n",
              "1   35.26671306-80.76104322              758\n",
              "2   35.12039601-80.86962228              563\n",
              "3   35.23909427-80.92592474              356\n",
              "4   35.25927032-80.90078488              344\n",
              "5   35.26391476-80.73330321              320\n",
              "6   35.26371343-80.88607182              320\n",
              "7   35.14960744-80.88478039              312\n",
              "8   35.22968575-80.74488978              309\n",
              "9   35.19929285-80.76009595              306\n",
              "10  35.11972226-80.87886182              305\n",
              "11  35.21540996-80.88513088              304\n",
              "12  35.24419938-80.87755329              302\n",
              "13  35.26182874-80.95934913              302\n",
              "14  35.20147809-80.73235657              301\n",
              "15  35.20835397-80.74324758              298\n",
              "16  35.12797492-80.83035733              298\n",
              "17  35.20553221-80.72904435              297\n",
              "18  35.24465259-80.75219358              293\n",
              "19  35.24896458-80.88815565              293"
            ]
          },
          "metadata": {},
          "execution_count": 112
        }
      ]
    },
    {
      "cell_type": "markdown",
      "metadata": {
        "id": "jNh7CRnV00Af"
      },
      "source": [
        "## Frequency of Requests Over Time"
      ]
    },
    {
      "cell_type": "code",
      "metadata": {
        "colab": {
          "base_uri": "https://localhost:8080/"
        },
        "id": "H7DVIwmi1Rtn",
        "outputId": "2dfceba7-bbba-4cdd-e706-2d871048e9e5"
      },
      "source": [
        "requests['RECEIVED_DATE'].head()"
      ],
      "execution_count": null,
      "outputs": [
        {
          "output_type": "execute_result",
          "data": {
            "text/plain": [
              "0    2016/11/07 14:25:00+00\n",
              "1    2016/11/07 14:28:00+00\n",
              "2    2016/11/07 14:34:00+00\n",
              "3    2016/11/07 14:41:00+00\n",
              "4    2016/11/07 14:44:00+00\n",
              "Name: RECEIVED_DATE, dtype: object"
            ]
          },
          "metadata": {},
          "execution_count": 33
        }
      ]
    },
    {
      "cell_type": "markdown",
      "metadata": {
        "id": "s6bGxYs2OxEH"
      },
      "source": [
        "<h2> Data Preprocessing </h2>"
      ]
    },
    {
      "cell_type": "markdown",
      "metadata": {
        "id": "seMC92zTOxAr"
      },
      "source": [
        "<h2> Data Understanding and Exploration </h2>"
      ]
    },
    {
      "cell_type": "markdown",
      "metadata": {
        "id": "OSfFRk2XOw7X"
      },
      "source": [
        "<h2> Data Preparation for Modeling </h2>"
      ]
    },
    {
      "cell_type": "markdown",
      "metadata": {
        "id": "0hZPgn_5Owwq"
      },
      "source": [
        "<h2> Modeling </h2>"
      ]
    },
    {
      "cell_type": "markdown",
      "metadata": {
        "id": "sV2ju_PMO5ij"
      },
      "source": [
        "<h2> Evaluation </h2>"
      ]
    },
    {
      "cell_type": "markdown",
      "metadata": {
        "id": "VKD5jphLO5ak"
      },
      "source": [
        "<h2> Results </h2>"
      ]
    }
  ]
}